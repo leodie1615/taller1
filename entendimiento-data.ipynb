{
 "cells": [
  {
   "cell_type": "markdown",
   "id": "673846c3",
   "metadata": {},
   "source": [
    "Objetivos del taller:\n",
    "*** Mejorar estrategía de ocupación y se basa en 3 frentes:\n",
    "Una vez que un cliente realiza una reserva, entender los factores que determinan la duración de la\n",
    "estadía, la probabilidad de cancelación y la influencia de características como el tipo de\n",
    "hotel, la composición del grupo de huéspedes o el canal de reservación es vital para el\n",
    "éxito del negocio ***\n",
    "  \n",
    "El dataset suministrado contiene alrededor de 32 columnas y 58895 filas. Contiene información relacionada al servicio de hospedaje ofrecido por un hotel o un resort. Asimismo, contiene informacion del estado y fecha de la reserva, el pais, las personas que se alojaron, el tipo de plan escogido por el usuario, la compañia encargada del pago o de realizar la reserva, si la reserva fue cancelada, entre otros.\n",
    "Los tipos de datos encontrados en el dataset son: text, boolean, integer, numeric y date.\n",
    "A continuación se presenta el top 5 atributos elegidos:\n",
    "* hotel                   (Cualitativa nominal):,\n",
    "* reservation_status      (Cualitativa nominal),\n",
    "* deposit_type            (Cualitativa nominal),\n",
    "* is_Canceled             (Cualitativa nominal),\n",
    "* lead_time               (cuantitativa discreta)\n",
    "\n",
    "\n"
   ]
  },
  {
   "cell_type": "markdown",
   "id": "6fa53937",
   "metadata": {},
   "source": [
    "## Carga y limpieza de datos"
   ]
  },
  {
   "cell_type": "code",
   "execution_count": 3,
   "id": "0204e98b",
   "metadata": {},
   "outputs": [],
   "source": [
    "# Importación de librerías\n",
    "import pandas as pd\n",
    "import matplotlib.pyplot as plt\n",
    "import seaborn as sns\n",
    "import numpy as np"
   ]
  },
  {
   "cell_type": "code",
   "execution_count": 4,
   "id": "de96cafd",
   "metadata": {},
   "outputs": [
    {
     "name": "stderr",
     "output_type": "stream",
     "text": [
      "C:\\Users\\Diego\\AppData\\Local\\Temp\\ipykernel_19780\\34777500.py:1: DtypeWarning: Columns (24) have mixed types. Specify dtype option on import or set low_memory=False.\n",
      "  reservation_df = pd.read_csv(\"data/hotel_bookings_modified.csv\")\n"
     ]
    }
   ],
   "source": [
    "reservation_df = pd.read_csv(\"data/hotel_bookings_modified.csv\")"
   ]
  },
  {
   "cell_type": "code",
   "execution_count": null,
   "id": "7a0b13b8-efab-4f36-88c7-8d6ee882eedf",
   "metadata": {},
   "outputs": [
    {
     "data": {
      "text/html": [
       "<div>\n",
       "<style scoped>\n",
       "    .dataframe tbody tr th:only-of-type {\n",
       "        vertical-align: middle;\n",
       "    }\n",
       "\n",
       "    .dataframe tbody tr th {\n",
       "        vertical-align: top;\n",
       "    }\n",
       "\n",
       "    .dataframe thead th {\n",
       "        text-align: right;\n",
       "    }\n",
       "</style>\n",
       "<table border=\"1\" class=\"dataframe\">\n",
       "  <thead>\n",
       "    <tr style=\"text-align: right;\">\n",
       "      <th></th>\n",
       "      <th>hotel</th>\n",
       "      <th>is_canceled</th>\n",
       "      <th>lead_time</th>\n",
       "      <th>arrival_date_year</th>\n",
       "      <th>arrival_date_month</th>\n",
       "      <th>arrival_date_week_number</th>\n",
       "      <th>arrival_date_day_of_month</th>\n",
       "      <th>stays_in_weekend_nights</th>\n",
       "      <th>stays_in_week_nights</th>\n",
       "      <th>adults</th>\n",
       "      <th>...</th>\n",
       "      <th>agent</th>\n",
       "      <th>company</th>\n",
       "      <th>days_in_waiting_list</th>\n",
       "      <th>customer_type</th>\n",
       "      <th>adr</th>\n",
       "      <th>required_car_parking_spaces</th>\n",
       "      <th>total_of_special_requests</th>\n",
       "      <th>reservation_status</th>\n",
       "      <th>reservation_status_date</th>\n",
       "      <th>kids</th>\n",
       "    </tr>\n",
       "  </thead>\n",
       "  <tbody>\n",
       "    <tr>\n",
       "      <th>29173</th>\n",
       "      <td>Resort Hotel</td>\n",
       "      <td>0</td>\n",
       "      <td>386</td>\n",
       "      <td>2016.0</td>\n",
       "      <td>October</td>\n",
       "      <td>43</td>\n",
       "      <td>20</td>\n",
       "      <td>0</td>\n",
       "      <td>3</td>\n",
       "      <td>2</td>\n",
       "      <td>...</td>\n",
       "      <td>NaN</td>\n",
       "      <td>NaN</td>\n",
       "      <td>0.0</td>\n",
       "      <td>Transient-Party</td>\n",
       "      <td>60.0</td>\n",
       "      <td>0.0</td>\n",
       "      <td>1.0</td>\n",
       "      <td>Check-Out</td>\n",
       "      <td>2016-10-23</td>\n",
       "      <td>NaN</td>\n",
       "    </tr>\n",
       "    <tr>\n",
       "      <th>48914</th>\n",
       "      <td>City Hotel</td>\n",
       "      <td>1</td>\n",
       "      <td>66</td>\n",
       "      <td>20016.0</td>\n",
       "      <td>April</td>\n",
       "      <td>14</td>\n",
       "      <td>2</td>\n",
       "      <td>1</td>\n",
       "      <td>1</td>\n",
       "      <td>1</td>\n",
       "      <td>...</td>\n",
       "      <td>9.0</td>\n",
       "      <td>NaN</td>\n",
       "      <td>0.0</td>\n",
       "      <td>Transient</td>\n",
       "      <td>88.2</td>\n",
       "      <td>0.0</td>\n",
       "      <td>0.0</td>\n",
       "      <td>Canceled</td>\n",
       "      <td>2016-02-21</td>\n",
       "      <td>NaN</td>\n",
       "    </tr>\n",
       "    <tr>\n",
       "      <th>7045</th>\n",
       "      <td>Resort Hotel</td>\n",
       "      <td>1</td>\n",
       "      <td>6</td>\n",
       "      <td>2016.0</td>\n",
       "      <td>July</td>\n",
       "      <td>30</td>\n",
       "      <td>18</td>\n",
       "      <td>1</td>\n",
       "      <td>0</td>\n",
       "      <td>1</td>\n",
       "      <td>...</td>\n",
       "      <td>NaN</td>\n",
       "      <td>53.0</td>\n",
       "      <td>0.0</td>\n",
       "      <td>Transient</td>\n",
       "      <td>126.0</td>\n",
       "      <td>0.0</td>\n",
       "      <td>0.0</td>\n",
       "      <td>Canceled</td>\n",
       "      <td>2016-07-14</td>\n",
       "      <td>NaN</td>\n",
       "    </tr>\n",
       "  </tbody>\n",
       "</table>\n",
       "<p>3 rows × 33 columns</p>\n",
       "</div>"
      ],
      "text/plain": [
       "              hotel  is_canceled  lead_time  arrival_date_year  \\\n",
       "29173  Resort Hotel            0        386             2016.0   \n",
       "48914    City Hotel            1         66            20016.0   \n",
       "7045   Resort Hotel            1          6             2016.0   \n",
       "\n",
       "      arrival_date_month  arrival_date_week_number  arrival_date_day_of_month  \\\n",
       "29173            October                        43                         20   \n",
       "48914              April                        14                          2   \n",
       "7045                July                        30                         18   \n",
       "\n",
       "       stays_in_weekend_nights  stays_in_week_nights  adults  ...  agent  \\\n",
       "29173                        0                     3       2  ...    NaN   \n",
       "48914                        1                     1       1  ...    9.0   \n",
       "7045                         1                     0       1  ...    NaN   \n",
       "\n",
       "       company days_in_waiting_list    customer_type    adr  \\\n",
       "29173      NaN                  0.0  Transient-Party   60.0   \n",
       "48914      NaN                  0.0        Transient   88.2   \n",
       "7045      53.0                  0.0        Transient  126.0   \n",
       "\n",
       "      required_car_parking_spaces  total_of_special_requests  \\\n",
       "29173                         0.0                        1.0   \n",
       "48914                         0.0                        0.0   \n",
       "7045                          0.0                        0.0   \n",
       "\n",
       "       reservation_status  reservation_status_date kids  \n",
       "29173           Check-Out               2016-10-23  NaN  \n",
       "48914            Canceled               2016-02-21  NaN  \n",
       "7045             Canceled               2016-07-14  NaN  \n",
       "\n",
       "[3 rows x 33 columns]"
      ]
     },
     "execution_count": 5,
     "metadata": {},
     "output_type": "execute_result"
    }
   ],
   "source": [
    "#reservation_df.sample(3)\n",
    "#reservation_df.dtypes\n",
    "# Showing dataframe dimensions\n",
    "reservation_df.shape"
   ]
  },
  {
   "cell_type": "code",
   "execution_count": 6,
   "id": "23e76192",
   "metadata": {},
   "outputs": [],
   "source": [
    "# Lista de columnas a castear según lo indica el Diccionario de Datos\n",
    "df_reservation_mod=reservation_df\n",
    "cast_columns_int = [\"arrival_date_year\",\"children\",\"days_in_waiting_list\",\"required_car_parking_spaces\",\"total_of_special_requests\",\"agent\",\"company\"]\n",
    "cast_columns_date = [\"reservation_status_date\"]\n"
   ]
  },
  {
   "cell_type": "code",
   "execution_count": null,
   "id": "d07f845f",
   "metadata": {},
   "outputs": [],
   "source": [
    "# transformación columnas enteras\n",
    "def convertir_string(cast_columns_int,df):\n",
    "    for i in cast_columns_int:\n",
    "        df[i]=(\n",
    "        pd.to_numeric(df[i], errors=\"coerce\")\n",
    "          .round()\n",
    "          .astype(\"Int64\")\n",
    "        )\n",
    "# transformación columnas fecha\n",
    "def convertir_date(cast_columns_date,df):\n",
    "    for i in cast_columns_date:\n",
    "        df[i]=(\n",
    "        pd.to_datetime(df[i], errors=\"coerce\")\n",
    "        )\n",
    "\n",
    "# limpieza columnas tipo \"object\" \n",
    "def eliminar_espacios(columns_object,df):\n",
    "    df[columns_object]=df[columns_object].apply(lambda x: x.str.strip())\n",
    "\n",
    "\n",
    "convertir_string(cast_columns_int,df_reservation_mod)\n",
    "convertir_date(cast_columns_date,df_reservation_mod)\n",
    "#obtiene lista de columnas tipo \"object\"\n",
    "columns_object = df_reservation_mod.select_dtypes(include=\"object\").columns\n",
    "eliminar_espacios(columns_object,df_reservation_mod)"
   ]
  },
  {
   "cell_type": "code",
   "execution_count": 55,
   "id": "07aae936",
   "metadata": {},
   "outputs": [],
   "source": [
    "#se eliminan duplicados\n",
    "df_reservation_mod = df_reservation_mod.drop_duplicates()"
   ]
  },
  {
   "cell_type": "markdown",
   "id": "b90373e8",
   "metadata": {},
   "source": [
    "## Univariable Cualitative Analysis"
   ]
  },
  {
   "cell_type": "markdown",
   "id": "849b5968",
   "metadata": {},
   "source": [
    "#### Variable hotel"
   ]
  },
  {
   "cell_type": "code",
   "execution_count": null,
   "id": "3e655992",
   "metadata": {},
   "outputs": [
    {
     "data": {
      "text/plain": [
       "count            58895\n",
       "unique               2\n",
       "top       Resort Hotel\n",
       "freq             40063\n",
       "Name: hotel, dtype: object"
      ]
     },
     "execution_count": 19,
     "metadata": {},
     "output_type": "execute_result"
    }
   ],
   "source": [
    "# obtencion de valores unicos, el valor mas repetido y su frecuencia\n",
    "reservation_df[\"hotel\"].describe()"
   ]
  },
  {
   "cell_type": "code",
   "execution_count": 56,
   "id": "44bcbce0",
   "metadata": {},
   "outputs": [
    {
     "data": {
      "image/png": "[encoded data removed]",
      "text/plain": [
       "<Figure size 500x500 with 1 Axes>"
      ]
     },
     "metadata": {},
     "output_type": "display_data"
    }
   ],
   "source": [
    "# Calculating the relative frecuency of accommodations offered\n",
    "reservation_df[\"hotel\"].value_counts(dropna=False, normalize=True)\n",
    "\n",
    "# Plotting a histogram for price\n",
    "plt.figure(figsize=(5, 5))                     \n",
    "plt.hist(reservation_df[\"hotel\"], bins=20)      \n",
    "plt.title(\"Distribucion de los Hotel\")\n",
    "plt.show()"
   ]
  },
  {
   "cell_type": "markdown",
   "id": "f54f1613",
   "metadata": {},
   "source": [
    "El 68% de las reservas se realizan en el Resort Hotel, lo que lleva a pensar que para el cliente es mas atractivo esta clase de hospedaje porque además de ofrecer hospedaje, ofrece actividades de recreación , descanso y gastronomía. El resto de las reservas (32%), se hacen en el city hotel."
   ]
  },
  {
   "cell_type": "markdown",
   "id": "13d6bc22",
   "metadata": {},
   "source": [
    "#### Variable reservation_status"
   ]
  },
  {
   "cell_type": "markdown",
   "id": "2ece4752",
   "metadata": {},
   "source": [
    "Cerca del 58% de las reservas son tomadas exitosamente. Hay un 39% de reservas que son canceladas, por lo que es importante analizar que factores conducieron a la cancelación por parte del cliente y que oportunidades de mejora se pueden aplicar en la estrategia de alojamiento del cliente. Finalmente, cerca del 1% de alojamientos no se hizo el check-in y el cliente informo el motivo. Se se tuviera la información relacionada al motivo, se podría analizar si esos motivos relacionan al servicio de hospedaje, pero como no se tiene, se plantea como un futuro análisis."
   ]
  },
  {
   "cell_type": "code",
   "execution_count": 37,
   "id": "2bdaf2d6",
   "metadata": {},
   "outputs": [
    {
     "data": {
      "text/plain": [
       "reservation_status\n",
       "Check-Out    0.582240\n",
       "Canceled     0.394227\n",
       "No-Show      0.013533\n",
       "NaN          0.010001\n",
       "Name: proportion, dtype: float64"
      ]
     },
     "execution_count": 37,
     "metadata": {},
     "output_type": "execute_result"
    }
   ],
   "source": [
    "# obtain unique values, count, most repeat value\n",
    "reservation_df[\"reservation_status\"].describe()\n",
    "# Calculating the relative frecuency of accommodations offered\n",
    "reservation_df[\"reservation_status\"].value_counts(dropna=False, normalize=True)"
   ]
  },
  {
   "cell_type": "code",
   "execution_count": 38,
   "id": "34d8a6ac",
   "metadata": {},
   "outputs": [
    {
     "data": {
      "image/png": "[encoded data removed]",
      "text/plain": [
       "<Figure size 500x500 with 1 Axes>"
      ]
     },
     "metadata": {},
     "output_type": "display_data"
    }
   ],
   "source": [
    "\n",
    "\n",
    "# Plotting a histogram for price\n",
    "plt.figure(figsize=(5, 5))                     \n",
    "plt.hist(reservation_df[\"reservation_status\"].astype(str), bins=10)      \n",
    "plt.title(\"Acommodations offered distribution\")\n",
    "plt.show()\n"
   ]
  },
  {
   "cell_type": "markdown",
   "id": "2ad4f705",
   "metadata": {},
   "source": [
    "#### Variable deposit_type"
   ]
  },
  {
   "cell_type": "code",
   "execution_count": 44,
   "id": "7e60016d",
   "metadata": {},
   "outputs": [
    {
     "data": {
      "text/plain": [
       "count          58895\n",
       "unique             4\n",
       "top       No Deposit\n",
       "freq           52333\n",
       "Name: deposit_type, dtype: object"
      ]
     },
     "execution_count": 44,
     "metadata": {},
     "output_type": "execute_result"
    }
   ],
   "source": [
    "# obtain unique values, count, most repeat value\n",
    "reservation_df[\"deposit_type\"].describe()"
   ]
  },
  {
   "cell_type": "code",
   "execution_count": 57,
   "id": "25de8129",
   "metadata": {},
   "outputs": [
    {
     "data": {
      "text/plain": [
       "deposit_type\n",
       "No Deposit    0.888581\n",
       "Non Refund    0.108991\n",
       "Refundable    0.002428\n",
       "Name: proportion, dtype: float64"
      ]
     },
     "execution_count": 57,
     "metadata": {},
     "output_type": "execute_result"
    }
   ],
   "source": [
    "# Calculating the relative frecuency of accommodations offered\n",
    "reservation_df[\"deposit_type\"].value_counts(dropna=False, normalize=True)"
   ]
  },
  {
   "cell_type": "markdown",
   "id": "c9a611ab",
   "metadata": {},
   "source": [
    "Se observa que en la columna \"deposit_type\" existe un problema de calidad de datos basado en columna relacionado a la existencia de sinónimo (Non Refund = No Refund). Se procede a solucionarlo y calcular nuevamente el conteo de valores dentro de la columna"
   ]
  },
  {
   "cell_type": "code",
   "execution_count": 60,
   "id": "09abf86f",
   "metadata": {},
   "outputs": [
    {
     "data": {
      "image/png": "[encoded data removed]",
      "text/plain": [
       "<Figure size 500x500 with 1 Axes>"
      ]
     },
     "metadata": {},
     "output_type": "display_data"
    }
   ],
   "source": [
    "# Calculating the relative frecuency of accommodations offered\n",
    "reservation_df[\"deposit_type\"].replace(\"No Refund\",\"Non Refund\",inplace=True)\n",
    "reservation_df[\"deposit_type\"].value_counts(dropna=False, normalize=True)\n",
    "\n",
    "# Plotting a histogram for price\n",
    "plt.figure(figsize=(5, 5))                     \n",
    "plt.hist(reservation_df[\"deposit_type\"], bins=20)      \n",
    "plt.title(\"Acommodations offered distribution\")\n",
    "plt.show()"
   ]
  },
  {
   "cell_type": "markdown",
   "id": "ecda7572",
   "metadata": {},
   "source": [
    "Cerca del 88% de los clientes no hacen un depositivo para realizar una reserva. El 10% de los clientes hacen el depositivo del 100%, pero no se devuelve si cancela. Y muy pocos clientes hacen un depositivo por un valor por debajo del costo de la reserva."
   ]
  },
  {
   "cell_type": "markdown",
   "id": "f331d772",
   "metadata": {},
   "source": [
    "### Variable is_canceled"
   ]
  },
  {
   "cell_type": "code",
   "execution_count": 62,
   "id": "f2f11c8c",
   "metadata": {},
   "outputs": [
    {
     "data": {
      "text/plain": [
       "count    58895.000000\n",
       "mean         0.411393\n",
       "std          0.492090\n",
       "min          0.000000\n",
       "25%          0.000000\n",
       "50%          0.000000\n",
       "75%          1.000000\n",
       "max          1.000000\n",
       "Name: is_canceled, dtype: float64"
      ]
     },
     "execution_count": 62,
     "metadata": {},
     "output_type": "execute_result"
    }
   ],
   "source": [
    "# obtain unique values, count, most repeat value\n",
    "reservation_df[\"is_canceled\"].describe()"
   ]
  },
  {
   "cell_type": "code",
   "execution_count": 65,
   "id": "db588b1b",
   "metadata": {},
   "outputs": [
    {
     "data": {
      "text/plain": [
       "is_canceled\n",
       "0    0.588607\n",
       "1    0.411393\n",
       "Name: proportion, dtype: float64"
      ]
     },
     "execution_count": 65,
     "metadata": {},
     "output_type": "execute_result"
    }
   ],
   "source": [
    "# Calculating the relative frecuency of accommodations offered\n",
    "reservation_df[\"is_canceled\"].value_counts(dropna=False, normalize=True)"
   ]
  },
  {
   "cell_type": "markdown",
   "id": "ee577a70",
   "metadata": {},
   "source": [
    "Cerca del 58% de las reservas no fueron canceladas. En cambio, cerca del 42% de las reservas fueron canceladas. Esta valor tan alto de cancelación indica que hay una opción de mejora notoría en la estrategia de ocupación."
   ]
  },
  {
   "cell_type": "code",
   "execution_count": 66,
   "id": "d58a4fc5",
   "metadata": {},
   "outputs": [
    {
     "data": {
      "image/png": "[encoded data removed]",
      "text/plain": [
       "<Figure size 500x500 with 1 Axes>"
      ]
     },
     "metadata": {},
     "output_type": "display_data"
    }
   ],
   "source": [
    "# Plotting a histogram for price\n",
    "plt.figure(figsize=(5, 5))                     \n",
    "plt.hist(reservation_df[\"is_canceled\"], bins=20)      \n",
    "plt.title(\"Acommodations offered distribution\")\n",
    "plt.show()"
   ]
  },
  {
   "cell_type": "markdown",
   "id": "a6ffde5a",
   "metadata": {},
   "source": [
    "## Univariable Cuantitative Analysis"
   ]
  },
  {
   "cell_type": "markdown",
   "id": "7ce51d3a",
   "metadata": {},
   "source": [
    "#### Variable lead_time"
   ]
  },
  {
   "cell_type": "code",
   "execution_count": 67,
   "id": "b119ea7f",
   "metadata": {},
   "outputs": [
    {
     "data": {
      "text/plain": [
       "count    58895.000000\n",
       "mean       100.050904\n",
       "std        101.162420\n",
       "min          0.000000\n",
       "25%         17.000000\n",
       "50%         69.000000\n",
       "75%        157.000000\n",
       "max        737.000000\n",
       "Name: lead_time, dtype: float64"
      ]
     },
     "execution_count": 67,
     "metadata": {},
     "output_type": "execute_result"
    }
   ],
   "source": [
    "# obtain unique mean, std, cuantiles,max value\n",
    "reservation_df[\"lead_time\"].describe()"
   ]
  },
  {
   "cell_type": "markdown",
   "id": "d1b83fe0",
   "metadata": {},
   "source": [
    "Mean = 100 → en promedio los alojamientos se reservan con 100 dias de anticipación (mas de 3 meses de anticipación)\n",
    "- Q1 (25%) = 17          → El 25% de los alojamientos se reservan con 17 dias de antelación\n",
    "- Q2 (50%, mediana) = 69 → El 50% de los alojamientos se reservan con 69 dias de antelación\n",
    "- Q3 (75%) = 157         → El 75% de los alojamientos se reservan con 157 dias de antelación o menos\n",
    "\n",
    "📌 Rango intercuartílico (IQR):\n",
    "- IQR= Q3 - Q1 = 140\n",
    "- Límite inferior = Q1 - 1.5 × IQR = 17- 1.5*140  = 0    \n",
    "- Límite superior = Q3 + 1.5 × IQR = 157+1.5*140  = 367\n",
    "\n",
    "👉 Entonces, alojamientos que son reservados con una antelacion ≥ 367 dias, se consideran valores atipicos"
   ]
  },
  {
   "cell_type": "code",
   "execution_count": 82,
   "id": "efcd2634",
   "metadata": {},
   "outputs": [
    {
     "data": {
      "text/plain": [
       "[]"
      ]
     },
     "execution_count": 82,
     "metadata": {},
     "output_type": "execute_result"
    },
    {
     "data": {
      "image/png": "[encoded data removed]",
      "text/plain": [
       "<Figure size 2000x500 with 1 Axes>"
      ]
     },
     "metadata": {},
     "output_type": "display_data"
    }
   ],
   "source": [
    "\n",
    "# Calculating the relative frecuency of lead times\n",
    "q1=reservation_df[\"lead_time\"].quantile(0.25)\n",
    "q3=reservation_df[\"lead_time\"].quantile(0.75)\n",
    "iqr=q3-q1\n",
    "plt.figure(figsize=(20, 5))\n",
    "plt.hist(reservation_df.loc[reservation_df[\"lead_time\"] <= (q3 + 1.5 * iqr)][\"lead_time\"], bins=500)\n",
    "plt.title(\"lead time distribution\")\n",
    "plt.plot()\n"
   ]
  },
  {
   "cell_type": "code",
   "execution_count": 75,
   "id": "0e049bf8",
   "metadata": {},
   "outputs": [
    {
     "data": {
      "image/png": "[encoded data removed]",
      "text/plain": [
       "<Figure size 2000x500 with 1 Axes>"
      ]
     },
     "metadata": {},
     "output_type": "display_data"
    }
   ],
   "source": [
    "\n",
    "# Plotting a boxplot for number of reviews\n",
    "plt.figure(figsize=(20, 5))\n",
    "plt.boxplot(reservation_df[\"lead_time\"], showmeans=True, vert=False)\n",
    "plt.title(\"lead time distribution\")\n",
    "plt.show()"
   ]
  },
  {
   "cell_type": "markdown",
   "id": "69fd743d",
   "metadata": {},
   "source": [
    "La media (triangulo verde) que es 100 esta no tan cerca de la mediana que es 69 dias (linea naranja ), por lo que existe una ligera asimetría positiva en la distribución, causada por la presencia de valores atípicos positivos grandes que están empujando la media hacia la derecha . Asimismo, los valores atipicos empiezan por encima de los 367 dias y se extienden hasta valores muy grandes ( 700 dias). La mayoria de los dias de antelacion de reserva (rango intercuartilico  Q3 - Q1), están entre 17 y 160 dias, lo que representa el comportamiento típico de los clientes."
   ]
  },
  {
   "cell_type": "code",
   "execution_count": null,
   "id": "a74cd644",
   "metadata": {},
   "outputs": [
    {
     "name": "stdout",
     "output_type": "stream",
     "text": [
      "Asimetría (skewness): 1.2082573004591315\n",
      "Curtosis: 1.0087856167757177\n"
     ]
    }
   ],
   "source": [
    "# Asimetría\n",
    "skewness = reservation_df[\"lead_time\"].skew()\n",
    "# Curtosis\n",
    "kurtosis = reservation_df[\"lead_time\"].kurt()\n",
    "print(\"Asimetría (skewness):\", skewness)\n",
    "print(\"Curtosis:\", kurtosis)"
   ]
  },
  {
   "cell_type": "markdown",
   "id": "e1f69e9c",
   "metadata": {},
   "source": [
    "Como la asimetria arroja un valor positivo mayor a 1, nos confirma que distribución esta sesgada hacia la derecha. Entonces, existen unos valores positivos muy grandes que estan arrastrando la media hacia la derecha.\n",
    "También, como la curtosis es cercano a uno la variable está sesgada a la derecha y presenta una concentración central fuerte con algunos valores atípicos altos que le dan colas más pesadas."
   ]
  },
  {
   "cell_type": "markdown",
   "id": "67f3ca8a",
   "metadata": {},
   "source": [
    "## Analisis Ivan\n"
   ]
  },
  {
   "cell_type": "markdown",
   "id": "b90376a9-f334-4398-a61b-8557a4701930",
   "metadata": {},
   "source": []
  },
  {
   "cell_type": "markdown",
   "id": "acaaae01-65cf-4d08-820b-0bfaa385316c",
   "metadata": {},
   "source": [
    "Estrategia de análisis:\n",
    "\n",
    "La estrategia inicia con la validación y limpieza de los datos de reservas para garantizar su calidad, eliminando valores duplicados, transformación de tipos de datos (entre otros). Posteriormente se realizará un análisis univariado para entender y describir las distribuciones de las variables seleccionadas, empleando medidas de tendencia central, dispersión y gráficos como histogramas y boxplots. Con lo anterior se busca identificar patrones generales y posibles valores atípicos. \n",
    "\n",
    "Luego se avanzará con un análisis bivariado para explorar relaciones entre variables, por ejemplo, la influencia del tipo de hotel, el canal de reservación sobre la probabilidad de cancelación. Se utilizará correlaciones y diagramas de dispersión enriquecidos con color por categorías. Finalmente se propondrán visualizaciones que permitan identificar segmentos de clientes y estrategias de precios que contribuyan a reducir cancelaciones y mejorar la ocupación otelera. "
   ]
  },
  {
   "cell_type": "code",
   "execution_count": 15,
   "id": "a848439f-5ab3-44e1-8774-e44ef916702b",
   "metadata": {
    "scrolled": true
   },
   "outputs": [],
   "source": [
    "reservation_df.head(3)\n",
    "reservation_df[\"arrival_date_year\"].unique()\n",
    "df_reservation_mod = reservation_df"
   ]
  },
  {
   "cell_type": "markdown",
   "id": "e17f34da-0e89-4bb2-8d82-67aaa3e5f3f2",
   "metadata": {},
   "source": [
    "Se identifican 13.340 valores nulos (valores iguales en todas sus columnas, en el dataset no hay una llave por la cual agrupar)."
   ]
  },
  {
   "cell_type": "code",
   "execution_count": 16,
   "id": "45add420-3248-481d-b133-c2d572803ccf",
   "metadata": {},
   "outputs": [
    {
     "data": {
      "text/html": [
       "<div>\n",
       "<style scoped>\n",
       "    .dataframe tbody tr th:only-of-type {\n",
       "        vertical-align: middle;\n",
       "    }\n",
       "\n",
       "    .dataframe tbody tr th {\n",
       "        vertical-align: top;\n",
       "    }\n",
       "\n",
       "    .dataframe thead th {\n",
       "        text-align: right;\n",
       "    }\n",
       "</style>\n",
       "<table border=\"1\" class=\"dataframe\">\n",
       "  <thead>\n",
       "    <tr style=\"text-align: right;\">\n",
       "      <th></th>\n",
       "      <th>hotel</th>\n",
       "      <th>is_canceled</th>\n",
       "      <th>lead_time</th>\n",
       "      <th>arrival_date_year</th>\n",
       "      <th>arrival_date_month</th>\n",
       "      <th>arrival_date_week_number</th>\n",
       "      <th>arrival_date_day_of_month</th>\n",
       "      <th>stays_in_weekend_nights</th>\n",
       "      <th>stays_in_week_nights</th>\n",
       "      <th>adults</th>\n",
       "      <th>...</th>\n",
       "      <th>agent</th>\n",
       "      <th>company</th>\n",
       "      <th>days_in_waiting_list</th>\n",
       "      <th>customer_type</th>\n",
       "      <th>adr</th>\n",
       "      <th>required_car_parking_spaces</th>\n",
       "      <th>total_of_special_requests</th>\n",
       "      <th>reservation_status</th>\n",
       "      <th>reservation_status_date</th>\n",
       "      <th>kids</th>\n",
       "    </tr>\n",
       "  </thead>\n",
       "  <tbody>\n",
       "    <tr>\n",
       "      <th>40772</th>\n",
       "      <td>City Hotel</td>\n",
       "      <td>0</td>\n",
       "      <td>0</td>\n",
       "      <td>2015</td>\n",
       "      <td>August</td>\n",
       "      <td>32</td>\n",
       "      <td>7</td>\n",
       "      <td>0</td>\n",
       "      <td>2</td>\n",
       "      <td>2</td>\n",
       "      <td>...</td>\n",
       "      <td>14</td>\n",
       "      <td>&lt;NA&gt;</td>\n",
       "      <td>0</td>\n",
       "      <td>Transient</td>\n",
       "      <td>75.0</td>\n",
       "      <td>0</td>\n",
       "      <td>1</td>\n",
       "      <td>Check-Out</td>\n",
       "      <td>2015-08-09</td>\n",
       "      <td>NaN</td>\n",
       "    </tr>\n",
       "    <tr>\n",
       "      <th>40802</th>\n",
       "      <td>City Hotel</td>\n",
       "      <td>0</td>\n",
       "      <td>0</td>\n",
       "      <td>2015</td>\n",
       "      <td>August</td>\n",
       "      <td>32</td>\n",
       "      <td>7</td>\n",
       "      <td>0</td>\n",
       "      <td>2</td>\n",
       "      <td>2</td>\n",
       "      <td>...</td>\n",
       "      <td>14</td>\n",
       "      <td>&lt;NA&gt;</td>\n",
       "      <td>0</td>\n",
       "      <td>Transient</td>\n",
       "      <td>75.0</td>\n",
       "      <td>0</td>\n",
       "      <td>1</td>\n",
       "      <td>Check-Out</td>\n",
       "      <td>2015-08-09</td>\n",
       "      <td>NaN</td>\n",
       "    </tr>\n",
       "    <tr>\n",
       "      <th>40821</th>\n",
       "      <td>City Hotel</td>\n",
       "      <td>0</td>\n",
       "      <td>0</td>\n",
       "      <td>2015</td>\n",
       "      <td>August</td>\n",
       "      <td>32</td>\n",
       "      <td>8</td>\n",
       "      <td>0</td>\n",
       "      <td>1</td>\n",
       "      <td>2</td>\n",
       "      <td>...</td>\n",
       "      <td>9</td>\n",
       "      <td>&lt;NA&gt;</td>\n",
       "      <td>0</td>\n",
       "      <td>Transient</td>\n",
       "      <td>89.0</td>\n",
       "      <td>0</td>\n",
       "      <td>1</td>\n",
       "      <td>Check-Out</td>\n",
       "      <td>2015-08-09</td>\n",
       "      <td>NaN</td>\n",
       "    </tr>\n",
       "    <tr>\n",
       "      <th>40838</th>\n",
       "      <td>City Hotel</td>\n",
       "      <td>0</td>\n",
       "      <td>0</td>\n",
       "      <td>2015</td>\n",
       "      <td>August</td>\n",
       "      <td>32</td>\n",
       "      <td>8</td>\n",
       "      <td>0</td>\n",
       "      <td>1</td>\n",
       "      <td>2</td>\n",
       "      <td>...</td>\n",
       "      <td>9</td>\n",
       "      <td>&lt;NA&gt;</td>\n",
       "      <td>0</td>\n",
       "      <td>Transient</td>\n",
       "      <td>89.0</td>\n",
       "      <td>0</td>\n",
       "      <td>1</td>\n",
       "      <td>Check-Out</td>\n",
       "      <td>2015-08-09</td>\n",
       "      <td>NaN</td>\n",
       "    </tr>\n",
       "  </tbody>\n",
       "</table>\n",
       "<p>4 rows × 33 columns</p>\n",
       "</div>"
      ],
      "text/plain": [
       "            hotel  is_canceled  lead_time  arrival_date_year  \\\n",
       "40772  City Hotel            0          0               2015   \n",
       "40802  City Hotel            0          0               2015   \n",
       "40821  City Hotel            0          0               2015   \n",
       "40838  City Hotel            0          0               2015   \n",
       "\n",
       "      arrival_date_month  arrival_date_week_number  arrival_date_day_of_month  \\\n",
       "40772             August                        32                          7   \n",
       "40802             August                        32                          7   \n",
       "40821             August                        32                          8   \n",
       "40838             August                        32                          8   \n",
       "\n",
       "       stays_in_weekend_nights  stays_in_week_nights  adults  ...  agent  \\\n",
       "40772                        0                     2       2  ...     14   \n",
       "40802                        0                     2       2  ...     14   \n",
       "40821                        0                     1       2  ...      9   \n",
       "40838                        0                     1       2  ...      9   \n",
       "\n",
       "       company days_in_waiting_list customer_type   adr  \\\n",
       "40772     <NA>                    0     Transient  75.0   \n",
       "40802     <NA>                    0     Transient  75.0   \n",
       "40821     <NA>                    0     Transient  89.0   \n",
       "40838     <NA>                    0     Transient  89.0   \n",
       "\n",
       "      required_car_parking_spaces  total_of_special_requests  \\\n",
       "40772                           0                          1   \n",
       "40802                           0                          1   \n",
       "40821                           0                          1   \n",
       "40838                           0                          1   \n",
       "\n",
       "       reservation_status  reservation_status_date kids  \n",
       "40772           Check-Out               2015-08-09  NaN  \n",
       "40802           Check-Out               2015-08-09  NaN  \n",
       "40821           Check-Out               2015-08-09  NaN  \n",
       "40838           Check-Out               2015-08-09  NaN  \n",
       "\n",
       "[4 rows x 33 columns]"
      ]
     },
     "execution_count": 16,
     "metadata": {},
     "output_type": "execute_result"
    }
   ],
   "source": [
    "df_reservation_mod.duplicated().sum()\n",
    "dups_all = df_reservation_mod[df_reservation_mod.duplicated(keep=False)].sort_values(list(df_reservation_mod.columns))\n",
    "dups_all.head(4)"
   ]
  },
  {
   "cell_type": "code",
   "execution_count": 17,
   "id": "a583f7a3-b036-41da-ab35-584fe1f30722",
   "metadata": {},
   "outputs": [
    {
     "data": {
      "text/html": [
       "<div>\n",
       "<style scoped>\n",
       "    .dataframe tbody tr th:only-of-type {\n",
       "        vertical-align: middle;\n",
       "    }\n",
       "\n",
       "    .dataframe tbody tr th {\n",
       "        vertical-align: top;\n",
       "    }\n",
       "\n",
       "    .dataframe thead th {\n",
       "        text-align: right;\n",
       "    }\n",
       "</style>\n",
       "<table border=\"1\" class=\"dataframe\">\n",
       "  <thead>\n",
       "    <tr style=\"text-align: right;\">\n",
       "      <th></th>\n",
       "      <th>hotel</th>\n",
       "      <th>is_canceled</th>\n",
       "      <th>lead_time</th>\n",
       "      <th>arrival_date_year</th>\n",
       "      <th>arrival_date_month</th>\n",
       "      <th>arrival_date_week_number</th>\n",
       "      <th>arrival_date_day_of_month</th>\n",
       "      <th>stays_in_weekend_nights</th>\n",
       "      <th>stays_in_week_nights</th>\n",
       "      <th>adults</th>\n",
       "      <th>...</th>\n",
       "      <th>agent</th>\n",
       "      <th>company</th>\n",
       "      <th>days_in_waiting_list</th>\n",
       "      <th>customer_type</th>\n",
       "      <th>adr</th>\n",
       "      <th>required_car_parking_spaces</th>\n",
       "      <th>total_of_special_requests</th>\n",
       "      <th>reservation_status</th>\n",
       "      <th>reservation_status_date</th>\n",
       "      <th>kids</th>\n",
       "    </tr>\n",
       "  </thead>\n",
       "  <tbody>\n",
       "    <tr>\n",
       "      <th>0</th>\n",
       "      <td>Resort Hotel</td>\n",
       "      <td>0</td>\n",
       "      <td>342</td>\n",
       "      <td>2015</td>\n",
       "      <td>July</td>\n",
       "      <td>27</td>\n",
       "      <td>1</td>\n",
       "      <td>0</td>\n",
       "      <td>0</td>\n",
       "      <td>2</td>\n",
       "      <td>...</td>\n",
       "      <td>&lt;NA&gt;</td>\n",
       "      <td>&lt;NA&gt;</td>\n",
       "      <td>0</td>\n",
       "      <td>Transient</td>\n",
       "      <td>0.00</td>\n",
       "      <td>0</td>\n",
       "      <td>0</td>\n",
       "      <td>Check-Out</td>\n",
       "      <td>2015-07-01</td>\n",
       "      <td>NaN</td>\n",
       "    </tr>\n",
       "    <tr>\n",
       "      <th>1</th>\n",
       "      <td>Resort Hotel</td>\n",
       "      <td>0</td>\n",
       "      <td>737</td>\n",
       "      <td>2015</td>\n",
       "      <td>July</td>\n",
       "      <td>27</td>\n",
       "      <td>1</td>\n",
       "      <td>0</td>\n",
       "      <td>0</td>\n",
       "      <td>2</td>\n",
       "      <td>...</td>\n",
       "      <td>&lt;NA&gt;</td>\n",
       "      <td>&lt;NA&gt;</td>\n",
       "      <td>0</td>\n",
       "      <td>Transient</td>\n",
       "      <td>0.00</td>\n",
       "      <td>0</td>\n",
       "      <td>0</td>\n",
       "      <td>Check-Out</td>\n",
       "      <td>2015-07-01</td>\n",
       "      <td>NaN</td>\n",
       "    </tr>\n",
       "    <tr>\n",
       "      <th>2</th>\n",
       "      <td>Resort Hotel</td>\n",
       "      <td>0</td>\n",
       "      <td>7</td>\n",
       "      <td>2015</td>\n",
       "      <td>July</td>\n",
       "      <td>27</td>\n",
       "      <td>1</td>\n",
       "      <td>0</td>\n",
       "      <td>1</td>\n",
       "      <td>1</td>\n",
       "      <td>...</td>\n",
       "      <td>&lt;NA&gt;</td>\n",
       "      <td>&lt;NA&gt;</td>\n",
       "      <td>0</td>\n",
       "      <td>Transient</td>\n",
       "      <td>75.00</td>\n",
       "      <td>0</td>\n",
       "      <td>0</td>\n",
       "      <td>Check-Out</td>\n",
       "      <td>2015-07-02</td>\n",
       "      <td>NaN</td>\n",
       "    </tr>\n",
       "    <tr>\n",
       "      <th>3</th>\n",
       "      <td>Resort Hotel</td>\n",
       "      <td>0</td>\n",
       "      <td>13</td>\n",
       "      <td>2015</td>\n",
       "      <td>July</td>\n",
       "      <td>27</td>\n",
       "      <td>1</td>\n",
       "      <td>0</td>\n",
       "      <td>1</td>\n",
       "      <td>1</td>\n",
       "      <td>...</td>\n",
       "      <td>304</td>\n",
       "      <td>&lt;NA&gt;</td>\n",
       "      <td>0</td>\n",
       "      <td>Transient</td>\n",
       "      <td>75.00</td>\n",
       "      <td>0</td>\n",
       "      <td>0</td>\n",
       "      <td>Check-Out</td>\n",
       "      <td>2015-07-02</td>\n",
       "      <td>NaN</td>\n",
       "    </tr>\n",
       "    <tr>\n",
       "      <th>4</th>\n",
       "      <td>Resort Hotel</td>\n",
       "      <td>0</td>\n",
       "      <td>14</td>\n",
       "      <td>2015</td>\n",
       "      <td>July</td>\n",
       "      <td>27</td>\n",
       "      <td>1</td>\n",
       "      <td>0</td>\n",
       "      <td>2</td>\n",
       "      <td>2</td>\n",
       "      <td>...</td>\n",
       "      <td>240</td>\n",
       "      <td>&lt;NA&gt;</td>\n",
       "      <td>0</td>\n",
       "      <td>Transient</td>\n",
       "      <td>98.00</td>\n",
       "      <td>0</td>\n",
       "      <td>1</td>\n",
       "      <td>Check-Out</td>\n",
       "      <td>2015-07-03</td>\n",
       "      <td>NaN</td>\n",
       "    </tr>\n",
       "    <tr>\n",
       "      <th>...</th>\n",
       "      <td>...</td>\n",
       "      <td>...</td>\n",
       "      <td>...</td>\n",
       "      <td>...</td>\n",
       "      <td>...</td>\n",
       "      <td>...</td>\n",
       "      <td>...</td>\n",
       "      <td>...</td>\n",
       "      <td>...</td>\n",
       "      <td>...</td>\n",
       "      <td>...</td>\n",
       "      <td>...</td>\n",
       "      <td>...</td>\n",
       "      <td>...</td>\n",
       "      <td>...</td>\n",
       "      <td>...</td>\n",
       "      <td>...</td>\n",
       "      <td>...</td>\n",
       "      <td>...</td>\n",
       "      <td>...</td>\n",
       "      <td>...</td>\n",
       "    </tr>\n",
       "    <tr>\n",
       "      <th>58890</th>\n",
       "      <td>Resort Hotel</td>\n",
       "      <td>0</td>\n",
       "      <td>3</td>\n",
       "      <td>2016</td>\n",
       "      <td>April</td>\n",
       "      <td>16</td>\n",
       "      <td>11</td>\n",
       "      <td>1</td>\n",
       "      <td>0</td>\n",
       "      <td>1</td>\n",
       "      <td>...</td>\n",
       "      <td>240</td>\n",
       "      <td>&lt;NA&gt;</td>\n",
       "      <td>0</td>\n",
       "      <td>Transient-Party</td>\n",
       "      <td>56.00</td>\n",
       "      <td>0</td>\n",
       "      <td>1</td>\n",
       "      <td>Check-Out</td>\n",
       "      <td>2016-04-12</td>\n",
       "      <td>NaN</td>\n",
       "    </tr>\n",
       "    <tr>\n",
       "      <th>58891</th>\n",
       "      <td>Resort Hotel</td>\n",
       "      <td>1</td>\n",
       "      <td>158</td>\n",
       "      <td>2016</td>\n",
       "      <td>May</td>\n",
       "      <td>20</td>\n",
       "      <td>8</td>\n",
       "      <td>2</td>\n",
       "      <td>2</td>\n",
       "      <td>2</td>\n",
       "      <td>...</td>\n",
       "      <td>250</td>\n",
       "      <td>&lt;NA&gt;</td>\n",
       "      <td>0</td>\n",
       "      <td>Transient</td>\n",
       "      <td>83.05</td>\n",
       "      <td>0</td>\n",
       "      <td>1</td>\n",
       "      <td>Canceled</td>\n",
       "      <td>2016-01-21</td>\n",
       "      <td>NaN</td>\n",
       "    </tr>\n",
       "    <tr>\n",
       "      <th>58892</th>\n",
       "      <td>City Hotel</td>\n",
       "      <td>1</td>\n",
       "      <td>18</td>\n",
       "      <td>2016</td>\n",
       "      <td>August</td>\n",
       "      <td>32</td>\n",
       "      <td>6</td>\n",
       "      <td>2</td>\n",
       "      <td>2</td>\n",
       "      <td>2</td>\n",
       "      <td>...</td>\n",
       "      <td>9</td>\n",
       "      <td>&lt;NA&gt;</td>\n",
       "      <td>0</td>\n",
       "      <td>Transient</td>\n",
       "      <td>151.00</td>\n",
       "      <td>0</td>\n",
       "      <td>2</td>\n",
       "      <td>Canceled</td>\n",
       "      <td>2016-07-28</td>\n",
       "      <td>NaN</td>\n",
       "    </tr>\n",
       "    <tr>\n",
       "      <th>58893</th>\n",
       "      <td>Resort Hotel</td>\n",
       "      <td>1</td>\n",
       "      <td>383</td>\n",
       "      <td>2016</td>\n",
       "      <td>October</td>\n",
       "      <td>41</td>\n",
       "      <td>6</td>\n",
       "      <td>1</td>\n",
       "      <td>3</td>\n",
       "      <td>2</td>\n",
       "      <td>...</td>\n",
       "      <td>315</td>\n",
       "      <td>&lt;NA&gt;</td>\n",
       "      <td>0</td>\n",
       "      <td>Transient-Party</td>\n",
       "      <td>48.00</td>\n",
       "      <td>0</td>\n",
       "      <td>0</td>\n",
       "      <td>Canceled</td>\n",
       "      <td>2016-03-04</td>\n",
       "      <td>NaN</td>\n",
       "    </tr>\n",
       "    <tr>\n",
       "      <th>58894</th>\n",
       "      <td>City Hotel</td>\n",
       "      <td>1</td>\n",
       "      <td>185</td>\n",
       "      <td>2016</td>\n",
       "      <td>July</td>\n",
       "      <td>28</td>\n",
       "      <td>5</td>\n",
       "      <td>0</td>\n",
       "      <td>4</td>\n",
       "      <td>2</td>\n",
       "      <td>...</td>\n",
       "      <td>9</td>\n",
       "      <td>&lt;NA&gt;</td>\n",
       "      <td>0</td>\n",
       "      <td>Transient</td>\n",
       "      <td>90.95</td>\n",
       "      <td>0</td>\n",
       "      <td>1</td>\n",
       "      <td>Canceled</td>\n",
       "      <td>2016-05-31</td>\n",
       "      <td>NaN</td>\n",
       "    </tr>\n",
       "  </tbody>\n",
       "</table>\n",
       "<p>55195 rows × 33 columns</p>\n",
       "</div>"
      ],
      "text/plain": [
       "              hotel  is_canceled  lead_time  arrival_date_year  \\\n",
       "0      Resort Hotel            0        342               2015   \n",
       "1      Resort Hotel            0        737               2015   \n",
       "2      Resort Hotel            0          7               2015   \n",
       "3      Resort Hotel            0         13               2015   \n",
       "4      Resort Hotel            0         14               2015   \n",
       "...             ...          ...        ...                ...   \n",
       "58890  Resort Hotel            0          3               2016   \n",
       "58891  Resort Hotel            1        158               2016   \n",
       "58892    City Hotel            1         18               2016   \n",
       "58893  Resort Hotel            1        383               2016   \n",
       "58894    City Hotel            1        185               2016   \n",
       "\n",
       "      arrival_date_month  arrival_date_week_number  arrival_date_day_of_month  \\\n",
       "0                   July                        27                          1   \n",
       "1                   July                        27                          1   \n",
       "2                   July                        27                          1   \n",
       "3                   July                        27                          1   \n",
       "4                   July                        27                          1   \n",
       "...                  ...                       ...                        ...   \n",
       "58890              April                        16                         11   \n",
       "58891                May                        20                          8   \n",
       "58892             August                        32                          6   \n",
       "58893            October                        41                          6   \n",
       "58894               July                        28                          5   \n",
       "\n",
       "       stays_in_weekend_nights  stays_in_week_nights  adults  ...  agent  \\\n",
       "0                            0                     0       2  ...   <NA>   \n",
       "1                            0                     0       2  ...   <NA>   \n",
       "2                            0                     1       1  ...   <NA>   \n",
       "3                            0                     1       1  ...    304   \n",
       "4                            0                     2       2  ...    240   \n",
       "...                        ...                   ...     ...  ...    ...   \n",
       "58890                        1                     0       1  ...    240   \n",
       "58891                        2                     2       2  ...    250   \n",
       "58892                        2                     2       2  ...      9   \n",
       "58893                        1                     3       2  ...    315   \n",
       "58894                        0                     4       2  ...      9   \n",
       "\n",
       "       company days_in_waiting_list    customer_type     adr  \\\n",
       "0         <NA>                    0        Transient    0.00   \n",
       "1         <NA>                    0        Transient    0.00   \n",
       "2         <NA>                    0        Transient   75.00   \n",
       "3         <NA>                    0        Transient   75.00   \n",
       "4         <NA>                    0        Transient   98.00   \n",
       "...        ...                  ...              ...     ...   \n",
       "58890     <NA>                    0  Transient-Party   56.00   \n",
       "58891     <NA>                    0        Transient   83.05   \n",
       "58892     <NA>                    0        Transient  151.00   \n",
       "58893     <NA>                    0  Transient-Party   48.00   \n",
       "58894     <NA>                    0        Transient   90.95   \n",
       "\n",
       "      required_car_parking_spaces  total_of_special_requests  \\\n",
       "0                               0                          0   \n",
       "1                               0                          0   \n",
       "2                               0                          0   \n",
       "3                               0                          0   \n",
       "4                               0                          1   \n",
       "...                           ...                        ...   \n",
       "58890                           0                          1   \n",
       "58891                           0                          1   \n",
       "58892                           0                          2   \n",
       "58893                           0                          0   \n",
       "58894                           0                          1   \n",
       "\n",
       "       reservation_status  reservation_status_date kids  \n",
       "0               Check-Out               2015-07-01  NaN  \n",
       "1               Check-Out               2015-07-01  NaN  \n",
       "2               Check-Out               2015-07-02  NaN  \n",
       "3               Check-Out               2015-07-02  NaN  \n",
       "4               Check-Out               2015-07-03  NaN  \n",
       "...                   ...                      ...  ...  \n",
       "58890           Check-Out               2016-04-12  NaN  \n",
       "58891            Canceled               2016-01-21  NaN  \n",
       "58892            Canceled               2016-07-28  NaN  \n",
       "58893            Canceled               2016-03-04  NaN  \n",
       "58894            Canceled               2016-05-31  NaN  \n",
       "\n",
       "[55195 rows x 33 columns]"
      ]
     },
     "execution_count": 17,
     "metadata": {},
     "output_type": "execute_result"
    }
   ],
   "source": [
    "cond = df_reservation_mod[\"lead_time\"] > 0\n",
    "df_filtrado = df_reservation_mod[cond]\n",
    "df_filtrado"
   ]
  },
  {
   "cell_type": "markdown",
   "id": "56a9be99-c035-4116-8ac2-60f8271ffc1b",
   "metadata": {},
   "source": [
    "- hotel \n",
    "- lead_time (Nos podría dar pistas de si a mayor tiempo mas cancelaciones)\n",
    "- deposit_type \n",
    "- days_in_waiting_list\n",
    "- reservation_status"
   ]
  }
 ],
 "metadata": {
  "kernelspec": {
   "display_name": "venv",
   "language": "python",
   "name": "python3"
  },
  "language_info": {
   "codemirror_mode": {
    "name": "ipython",
    "version": 3
   },
   "file_extension": ".py",
   "mimetype": "text/x-python",
   "name": "python",
   "nbconvert_exporter": "python",
   "pygments_lexer": "ipython3",
   "version": "3.11.9"
  }
 },
 "nbformat": 4,
 "nbformat_minor": 5
}
