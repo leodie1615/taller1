{
 "cells": [
  {
   "cell_type": "markdown",
   "id": "673846c3",
   "metadata": {},
   "source": [
    "Objetivos del taller:\n",
    "*** Mejorar estrategía de ocupación y se basa en 3 frentes:\n",
    "Una vez que un cliente realiza una reserva, entender los factores que determinan la duración de la\n",
    "estadía, la probabilidad de cancelación y la influencia de características como el tipo de\n",
    "hotel, la composición del grupo de huéspedes o el canal de reservación es vital para el\n",
    "éxito del negocio ***\n",
    "  \n",
    "El dataset suministrado contiene alrededor de 32 columnas y 58895 filas. Contiene información relacionada al servicio de hospedaje ofrecido por un hotel o un resort. Asimismo, contiene informacion del estado y fecha de la reserva, el pais, las personas que se alojaron, el tipo de plan escogido por el usuario, la compañia encargada del pago o de realizar la reserva, si la reserva fue cancelada, entre otros.\n",
    "Los tipos de datos encontrados en el dataset son: text, boolean, integer, numeric y date.\n",
    "A continuación se presenta el top 5 atributos elegidos:\n",
    "* hotel                   (Cualitativa nominal):,\n",
    "* reservation_status      (Cualitativa nominal),\n",
    "* deposit_type            (Cualitativa nominal),\n",
    "* is_Canceled             (Cualitativa nominal),\n",
    "* lead_time               (cuantitativa discreta)\n",
    "\n",
    "\n"
   ]
  },
  {
   "cell_type": "markdown",
   "id": "6fa53937",
   "metadata": {},
   "source": [
    "## Carga y limpieza de datos"
   ]
  },
  {
   "cell_type": "code",
   "execution_count": null,
   "id": "0204e98b",
   "metadata": {},
   "outputs": [],
   "source": [
    "# Importación de librerías\n",
    "import pandas as pd\n",
    "import matplotlib.pyplot as plt\n",
    "import seaborn as sns\n",
    "import numpy as np"
   ]
  },
  {
   "cell_type": "code",
   "execution_count": 4,
   "id": "de96cafd",
   "metadata": {},
   "outputs": [
    {
     "name": "stderr",
     "output_type": "stream",
     "text": [
      "C:\\Users\\Diego\\AppData\\Local\\Temp\\ipykernel_19780\\34777500.py:1: DtypeWarning: Columns (24) have mixed types. Specify dtype option on import or set low_memory=False.\n",
      "  reservation_df = pd.read_csv(\"data/hotel_bookings_modified.csv\")\n"
     ]
    }
   ],
   "source": [
    "reservation_df = pd.read_csv(\"data/hotel_bookings_modified.csv\")"
   ]
  },
  {
   "cell_type": "code",
   "execution_count": null,
   "id": "7a0b13b8-efab-4f36-88c7-8d6ee882eedf",
   "metadata": {},
   "outputs": [
    {
     "data": {
      "text/html": [
       "<div>\n",
       "<style scoped>\n",
       "    .dataframe tbody tr th:only-of-type {\n",
       "        vertical-align: middle;\n",
       "    }\n",
       "\n",
       "    .dataframe tbody tr th {\n",
       "        vertical-align: top;\n",
       "    }\n",
       "\n",
       "    .dataframe thead th {\n",
       "        text-align: right;\n",
       "    }\n",
       "</style>\n",
       "<table border=\"1\" class=\"dataframe\">\n",
       "  <thead>\n",
       "    <tr style=\"text-align: right;\">\n",
       "      <th></th>\n",
       "      <th>hotel</th>\n",
       "      <th>is_canceled</th>\n",
       "      <th>lead_time</th>\n",
       "      <th>arrival_date_year</th>\n",
       "      <th>arrival_date_month</th>\n",
       "      <th>arrival_date_week_number</th>\n",
       "      <th>arrival_date_day_of_month</th>\n",
       "      <th>stays_in_weekend_nights</th>\n",
       "      <th>stays_in_week_nights</th>\n",
       "      <th>adults</th>\n",
       "      <th>...</th>\n",
       "      <th>agent</th>\n",
       "      <th>company</th>\n",
       "      <th>days_in_waiting_list</th>\n",
       "      <th>customer_type</th>\n",
       "      <th>adr</th>\n",
       "      <th>required_car_parking_spaces</th>\n",
       "      <th>total_of_special_requests</th>\n",
       "      <th>reservation_status</th>\n",
       "      <th>reservation_status_date</th>\n",
       "      <th>kids</th>\n",
       "    </tr>\n",
       "  </thead>\n",
       "  <tbody>\n",
       "    <tr>\n",
       "      <th>29173</th>\n",
       "      <td>Resort Hotel</td>\n",
       "      <td>0</td>\n",
       "      <td>386</td>\n",
       "      <td>2016.0</td>\n",
       "      <td>October</td>\n",
       "      <td>43</td>\n",
       "      <td>20</td>\n",
       "      <td>0</td>\n",
       "      <td>3</td>\n",
       "      <td>2</td>\n",
       "      <td>...</td>\n",
       "      <td>NaN</td>\n",
       "      <td>NaN</td>\n",
       "      <td>0.0</td>\n",
       "      <td>Transient-Party</td>\n",
       "      <td>60.0</td>\n",
       "      <td>0.0</td>\n",
       "      <td>1.0</td>\n",
       "      <td>Check-Out</td>\n",
       "      <td>2016-10-23</td>\n",
       "      <td>NaN</td>\n",
       "    </tr>\n",
       "    <tr>\n",
       "      <th>48914</th>\n",
       "      <td>City Hotel</td>\n",
       "      <td>1</td>\n",
       "      <td>66</td>\n",
       "      <td>20016.0</td>\n",
       "      <td>April</td>\n",
       "      <td>14</td>\n",
       "      <td>2</td>\n",
       "      <td>1</td>\n",
       "      <td>1</td>\n",
       "      <td>1</td>\n",
       "      <td>...</td>\n",
       "      <td>9.0</td>\n",
       "      <td>NaN</td>\n",
       "      <td>0.0</td>\n",
       "      <td>Transient</td>\n",
       "      <td>88.2</td>\n",
       "      <td>0.0</td>\n",
       "      <td>0.0</td>\n",
       "      <td>Canceled</td>\n",
       "      <td>2016-02-21</td>\n",
       "      <td>NaN</td>\n",
       "    </tr>\n",
       "    <tr>\n",
       "      <th>7045</th>\n",
       "      <td>Resort Hotel</td>\n",
       "      <td>1</td>\n",
       "      <td>6</td>\n",
       "      <td>2016.0</td>\n",
       "      <td>July</td>\n",
       "      <td>30</td>\n",
       "      <td>18</td>\n",
       "      <td>1</td>\n",
       "      <td>0</td>\n",
       "      <td>1</td>\n",
       "      <td>...</td>\n",
       "      <td>NaN</td>\n",
       "      <td>53.0</td>\n",
       "      <td>0.0</td>\n",
       "      <td>Transient</td>\n",
       "      <td>126.0</td>\n",
       "      <td>0.0</td>\n",
       "      <td>0.0</td>\n",
       "      <td>Canceled</td>\n",
       "      <td>2016-07-14</td>\n",
       "      <td>NaN</td>\n",
       "    </tr>\n",
       "  </tbody>\n",
       "</table>\n",
       "<p>3 rows × 33 columns</p>\n",
       "</div>"
      ],
      "text/plain": [
       "              hotel  is_canceled  lead_time  arrival_date_year  \\\n",
       "29173  Resort Hotel            0        386             2016.0   \n",
       "48914    City Hotel            1         66            20016.0   \n",
       "7045   Resort Hotel            1          6             2016.0   \n",
       "\n",
       "      arrival_date_month  arrival_date_week_number  arrival_date_day_of_month  \\\n",
       "29173            October                        43                         20   \n",
       "48914              April                        14                          2   \n",
       "7045                July                        30                         18   \n",
       "\n",
       "       stays_in_weekend_nights  stays_in_week_nights  adults  ...  agent  \\\n",
       "29173                        0                     3       2  ...    NaN   \n",
       "48914                        1                     1       1  ...    9.0   \n",
       "7045                         1                     0       1  ...    NaN   \n",
       "\n",
       "       company days_in_waiting_list    customer_type    adr  \\\n",
       "29173      NaN                  0.0  Transient-Party   60.0   \n",
       "48914      NaN                  0.0        Transient   88.2   \n",
       "7045      53.0                  0.0        Transient  126.0   \n",
       "\n",
       "      required_car_parking_spaces  total_of_special_requests  \\\n",
       "29173                         0.0                        1.0   \n",
       "48914                         0.0                        0.0   \n",
       "7045                          0.0                        0.0   \n",
       "\n",
       "       reservation_status  reservation_status_date kids  \n",
       "29173           Check-Out               2016-10-23  NaN  \n",
       "48914            Canceled               2016-02-21  NaN  \n",
       "7045             Canceled               2016-07-14  NaN  \n",
       "\n",
       "[3 rows x 33 columns]"
      ]
     },
     "execution_count": 5,
     "metadata": {},
     "output_type": "execute_result"
    }
   ],
   "source": [
    "#reservation_df.sample(3)\n",
    "#reservation_df.dtypes\n",
    "# Showing dataframe dimensions\n",
    "reservation_df.shape"
   ]
  },
  {
   "cell_type": "code",
   "execution_count": null,
   "id": "23e76192",
   "metadata": {},
   "outputs": [],
   "source": [
    "# Lista de columnas a castear según lo indica el Diccionario de Datos\n",
    "cast_columns_int = [\"arrival_date_year\",\"children\",\"days_in_waiting_list\",\"required_car_parking_spaces\",\"total_of_special_requests\",\"agent\",\"company\"]\n",
    "cast_columns_date = [\"reservation_status_date\"]\n"
   ]
  },
  {
   "cell_type": "code",
   "execution_count": null,
   "id": "d07f845f",
   "metadata": {},
   "outputs": [],
   "source": [
    "# transformación columnas enteras\n",
    "def convertir_string(cast_columns_int,df):\n",
    "    for i in cast_columns_int:\n",
    "        df[i]=(\n",
    "        pd.to_numeric(df[i], errors=\"coerce\")\n",
    "          .round()\n",
    "          .astype(\"Int64\")\n",
    "        )\n",
    "# transformación columnas fecha\n",
    "def convertir_date(cast_columns_date,df):\n",
    "    for i in cast_columns_date:\n",
    "        df[i]=(\n",
    "        pd.to_datetime(df[i], errors=\"coerce\")\n",
    "        )\n",
    "\n",
    "# limpieza columnas tipo \"object\" \n",
    "def eliminar_espacios(columns_object,df):\n",
    "    df[columns_object]=df[columns_object].apply(lambda x: x.str.strip())\n",
    "\n",
    "\n",
    "convertir_string(cast_columns_int,reservation_df)\n",
    "convertir_date(cast_columns_date,reservation_df)\n",
    "#obtiene lista de columnas tipo \"object\"\n",
    "columns_object = reservation_df.select_dtypes(include=\"object\").columns\n",
    "eliminar_espacios(columns_object,reservation_df)"
   ]
  },
  {
   "cell_type": "code",
   "execution_count": null,
   "id": "07aae936",
   "metadata": {},
   "outputs": [],
   "source": [
    "#se eliminan duplicados\n",
    "df_reservation_mod = reservation_df.drop_duplicates()"
   ]
  },
  {
   "cell_type": "markdown",
   "id": "b90373e8",
   "metadata": {},
   "source": [
    "## Univariable Cualitative Analysis"
   ]
  },
  {
   "cell_type": "markdown",
   "id": "849b5968",
   "metadata": {},
   "source": [
    "#### Variable hotel"
   ]
  },
  {
   "cell_type": "code",
   "execution_count": 203,
   "id": "3e655992",
   "metadata": {},
   "outputs": [
    {
     "data": {
      "text/plain": [
       "count            58895\n",
       "unique               2\n",
       "top       Resort Hotel\n",
       "freq             40063\n",
       "Name: hotel, dtype: object"
      ]
     },
     "execution_count": 203,
     "metadata": {},
     "output_type": "execute_result"
    }
   ],
   "source": [
    "# obtencion de valores unicos, el valor mas repetido y su frecuencia\n",
    "reservation_df[\"hotel\"].describe()"
   ]
  },
  {
   "cell_type": "code",
   "execution_count": 204,
   "id": "44bcbce0",
   "metadata": {},
   "outputs": [
    {
     "data": {
      "image/png": "[encoded data removed]",
      "text/plain": [
       "<Figure size 500x500 with 1 Axes>"
      ]
     },
     "metadata": {},
     "output_type": "display_data"
    }
   ],
   "source": [
    "# Calculating the relative frecuency of accommodations offered\n",
    "reservation_df[\"hotel\"].value_counts(dropna=False, normalize=True)\n",
    "\n",
    "# Plotting a histogram for price\n",
    "plt.figure(figsize=(5, 5))                     \n",
    "plt.hist(reservation_df[\"hotel\"], bins=20)      \n",
    "plt.title(\"Distribucion de los Hotel\")\n",
    "plt.show()"
   ]
  },
  {
   "cell_type": "markdown",
   "id": "f54f1613",
   "metadata": {},
   "source": [
    "El 68% de los datos de corresponden Resort Hotel. El 32 % a City hotel. Se puede deber a mayor demanda en el primero o la existencia de mas datos. Mas adelante lo vamos a descubrir."
   ]
  },
  {
   "cell_type": "markdown",
   "id": "13d6bc22",
   "metadata": {},
   "source": [
    "#### Variable reservation_status"
   ]
  },
  {
   "cell_type": "markdown",
   "id": "2ece4752",
   "metadata": {},
   "source": [
    "Cerca del 58% de las reservas son tomadas exitosamente. Hay un 39% de reservas que son canceladas, por lo que es importante analizar que factores conducieron a la cancelación por parte del cliente y que oportunidades de mejora se pueden aplicar en la estrategia de alojamiento del cliente. Finalmente, cerca del 1% de alojamientos no se hizo el check-in y el cliente informo el motivo. Se se tuviera la información relacionada al motivo, se podría analizar si esos motivos relacionan al servicio de hospedaje, pero como no se tiene, se plantea como un futuro análisis."
   ]
  },
  {
   "cell_type": "code",
   "execution_count": 205,
   "id": "2bdaf2d6",
   "metadata": {},
   "outputs": [
    {
     "data": {
      "text/plain": [
       "reservation_status\n",
       "Check-Out    0.582240\n",
       "Canceled     0.394227\n",
       "No-Show      0.013533\n",
       "NaN          0.010001\n",
       "Name: proportion, dtype: float64"
      ]
     },
     "execution_count": 205,
     "metadata": {},
     "output_type": "execute_result"
    }
   ],
   "source": [
    "# obtain unique values, count, most repeat value\n",
    "reservation_df[\"reservation_status\"].describe()\n",
    "# Calculating the relative frecuency of accommodations offered\n",
    "reservation_df[\"reservation_status\"].value_counts(dropna=False, normalize=True)"
   ]
  },
  {
   "cell_type": "code",
   "execution_count": 206,
   "id": "34d8a6ac",
   "metadata": {},
   "outputs": [
    {
     "data": {
      "image/png": "[encoded data removed]",
      "text/plain": [
       "<Figure size 500x500 with 1 Axes>"
      ]
     },
     "metadata": {},
     "output_type": "display_data"
    }
   ],
   "source": [
    "\n",
    "\n",
    "# Plotting a histogram for price\n",
    "plt.figure(figsize=(5, 5))                     \n",
    "plt.hist(reservation_df[\"reservation_status\"].astype(str), bins=10)      \n",
    "plt.title(\"Acommodations offered distribution\")\n",
    "plt.show()\n"
   ]
  },
  {
   "cell_type": "markdown",
   "id": "2ad4f705",
   "metadata": {},
   "source": [
    "#### Variable deposit_type"
   ]
  },
  {
   "cell_type": "code",
   "execution_count": 207,
   "id": "7e60016d",
   "metadata": {},
   "outputs": [
    {
     "data": {
      "text/plain": [
       "count          58895\n",
       "unique             3\n",
       "top       No Deposit\n",
       "freq           52333\n",
       "Name: deposit_type, dtype: object"
      ]
     },
     "execution_count": 207,
     "metadata": {},
     "output_type": "execute_result"
    }
   ],
   "source": [
    "# obtain unique values, count, most repeat value\n",
    "reservation_df[\"deposit_type\"].describe()"
   ]
  },
  {
   "cell_type": "code",
   "execution_count": 208,
   "id": "25de8129",
   "metadata": {},
   "outputs": [
    {
     "data": {
      "text/plain": [
       "deposit_type\n",
       "No Deposit    0.888581\n",
       "Non Refund    0.108991\n",
       "Refundable    0.002428\n",
       "Name: proportion, dtype: float64"
      ]
     },
     "execution_count": 208,
     "metadata": {},
     "output_type": "execute_result"
    }
   ],
   "source": [
    "# Calculating the relative frecuency of accommodations offered\n",
    "reservation_df[\"deposit_type\"].value_counts(dropna=False, normalize=True)"
   ]
  },
  {
   "cell_type": "markdown",
   "id": "c9a611ab",
   "metadata": {},
   "source": [
    "Se observa que en la columna \"deposit_type\" existe un problema de calidad de datos basado en columna relacionado a la existencia de sinónimo (Non Refund = No Refund). Se procede a solucionarlo y calcular nuevamente el conteo de valores dentro de la columna"
   ]
  },
  {
   "cell_type": "code",
   "execution_count": 209,
   "id": "09abf86f",
   "metadata": {},
   "outputs": [
    {
     "data": {
      "image/png": "[encoded data removed]",
      "text/plain": [
       "<Figure size 500x500 with 1 Axes>"
      ]
     },
     "metadata": {},
     "output_type": "display_data"
    }
   ],
   "source": [
    "# Calculating the relative frecuency of accommodations offered\n",
    "reservation_df[\"deposit_type\"].replace(\"No Refund\",\"Non Refund\",inplace=True)\n",
    "reservation_df[\"deposit_type\"].value_counts(dropna=False, normalize=True)\n",
    "\n",
    "# Plotting a histogram for price\n",
    "plt.figure(figsize=(5, 5))                     \n",
    "plt.hist(reservation_df[\"deposit_type\"], bins=20)      \n",
    "plt.title(\"Acommodations offered distribution\")\n",
    "plt.show()"
   ]
  },
  {
   "cell_type": "markdown",
   "id": "ecda7572",
   "metadata": {},
   "source": [
    "Cerca del 88% de los clientes no hacen un depositivo para realizar una reserva. El 10% de los clientes hacen el depositivo del 100%, pero no se devuelve si cancela. Y muy pocos clientes hacen un depositivo por un valor por debajo del costo de la reserva."
   ]
  },
  {
   "cell_type": "markdown",
   "id": "f331d772",
   "metadata": {},
   "source": [
    "### Variable is_canceled"
   ]
  },
  {
   "cell_type": "code",
   "execution_count": 210,
   "id": "f2f11c8c",
   "metadata": {},
   "outputs": [
    {
     "data": {
      "text/plain": [
       "count    58895.000000\n",
       "mean         0.411393\n",
       "std          0.492090\n",
       "min          0.000000\n",
       "25%          0.000000\n",
       "50%          0.000000\n",
       "75%          1.000000\n",
       "max          1.000000\n",
       "Name: is_canceled, dtype: float64"
      ]
     },
     "execution_count": 210,
     "metadata": {},
     "output_type": "execute_result"
    }
   ],
   "source": [
    "# obtain unique values, count, most repeat value\n",
    "reservation_df[\"is_canceled\"].describe()"
   ]
  },
  {
   "cell_type": "code",
   "execution_count": 211,
   "id": "db588b1b",
   "metadata": {},
   "outputs": [
    {
     "data": {
      "text/plain": [
       "is_canceled\n",
       "0    0.588607\n",
       "1    0.411393\n",
       "Name: proportion, dtype: float64"
      ]
     },
     "execution_count": 211,
     "metadata": {},
     "output_type": "execute_result"
    }
   ],
   "source": [
    "# Calculating the relative frecuency of accommodations offered\n",
    "reservation_df[\"is_canceled\"].value_counts(dropna=False, normalize=True)"
   ]
  },
  {
   "cell_type": "markdown",
   "id": "ee577a70",
   "metadata": {},
   "source": [
    "Cerca del 58% de las reservas no fueron canceladas. En cambio, cerca del 42% de las reservas fueron canceladas. Esta valor tan alto de cancelación indica que hay una opción de mejora notoría en la estrategia de ocupación."
   ]
  },
  {
   "cell_type": "code",
   "execution_count": 212,
   "id": "d58a4fc5",
   "metadata": {},
   "outputs": [
    {
     "data": {
      "image/png": "[encoded data removed]",
      "text/plain": [
       "<Figure size 500x500 with 1 Axes>"
      ]
     },
     "metadata": {},
     "output_type": "display_data"
    }
   ],
   "source": [
    "# Plotting a histogram for price\n",
    "plt.figure(figsize=(5, 5))                     \n",
    "plt.hist(reservation_df[\"is_canceled\"], bins=20)      \n",
    "plt.title(\"Acommodations offered distribution\")\n",
    "plt.show()"
   ]
  },
  {
   "cell_type": "markdown",
   "id": "a6ffde5a",
   "metadata": {},
   "source": [
    "## Univariable Cuantitative Analysis"
   ]
  },
  {
   "cell_type": "markdown",
   "id": "7ce51d3a",
   "metadata": {},
   "source": [
    "#### Variable lead_time"
   ]
  },
  {
   "cell_type": "code",
   "execution_count": 223,
   "id": "b119ea7f",
   "metadata": {},
   "outputs": [
    {
     "data": {
      "text/plain": [
       "count    58895.000000\n",
       "mean       100.050904\n",
       "std        101.162420\n",
       "min          0.000000\n",
       "25%         17.000000\n",
       "50%         69.000000\n",
       "75%        157.000000\n",
       "max        737.000000\n",
       "Name: lead_time, dtype: float64"
      ]
     },
     "execution_count": 223,
     "metadata": {},
     "output_type": "execute_result"
    }
   ],
   "source": [
    "# obtain unique mean, std, cuantiles,max value\n",
    "reservation_df[\"lead_time\"].describe()"
   ]
  },
  {
   "cell_type": "markdown",
   "id": "d1b83fe0",
   "metadata": {},
   "source": [
    "Mean = 100 → en promedio los alojamientos se reservan con 100 dias de anticipación (mas de 3 meses de anticipación)\n",
    "- Q1 (25%) = 17          → El 25% de los alojamientos se reservan con 17 dias de antelación\n",
    "- Q2 (50%, mediana) = 69 → El 50% de los alojamientos se reservan con 69 dias de antelación\n",
    "- Q3 (75%) = 157         → El 75% de los alojamientos se reservan con 157 dias de antelación o menos\n",
    "\n",
    "📌 Rango intercuartílico (IQR):\n",
    "- IQR= Q3 - Q1 = 140\n",
    "- Límite inferior = Q1 - 1.5 × IQR = 17- 1.5*140  = 0    \n",
    "- Límite superior = Q3 + 1.5 × IQR = 157+1.5*140  = 367\n",
    "\n",
    "👉 Entonces, alojamientos que son reservados con una antelacion ≥ 367 dias, se consideran valores atipicos"
   ]
  },
  {
   "cell_type": "code",
   "execution_count": 224,
   "id": "efcd2634",
   "metadata": {},
   "outputs": [
    {
     "data": {
      "text/plain": [
       "[]"
      ]
     },
     "execution_count": 224,
     "metadata": {},
     "output_type": "execute_result"
    },
    {
     "data": {
      "image/png": "[encoded data removed]",
      "text/plain": [
       "<Figure size 2000x500 with 1 Axes>"
      ]
     },
     "metadata": {},
     "output_type": "display_data"
    }
   ],
   "source": [
    "\n",
    "# Calculating the relative frecuency of lead times\n",
    "q1=reservation_df[\"lead_time\"].quantile(0.25)\n",
    "q3=reservation_df[\"lead_time\"].quantile(0.75)\n",
    "iqr=q3-q1\n",
    "plt.figure(figsize=(20, 5))\n",
    "plt.hist(reservation_df.loc[reservation_df[\"lead_time\"] <= (q3 + 1.5 * iqr)][\"lead_time\"], bins=500)\n",
    "plt.title(\"lead time distribution\")\n",
    "plt.plot()\n"
   ]
  },
  {
   "cell_type": "code",
   "execution_count": 225,
   "id": "0e049bf8",
   "metadata": {},
   "outputs": [
    {
     "data": {
      "image/png": "[encoded data removed]",
      "text/plain": [
       "<Figure size 2000x500 with 1 Axes>"
      ]
     },
     "metadata": {},
     "output_type": "display_data"
    }
   ],
   "source": [
    "\n",
    "# Plotting a boxplot for number of reviews\n",
    "plt.figure(figsize=(20, 5))\n",
    "plt.boxplot(reservation_df[\"lead_time\"], showmeans=True, vert=False)\n",
    "plt.title(\"lead time distribution\")\n",
    "plt.show()"
   ]
  },
  {
   "cell_type": "markdown",
   "id": "69fd743d",
   "metadata": {},
   "source": [
    "La media (triangulo verde) que es 100 esta no tan cerca de la mediana que es 69 dias (linea naranja ), por lo que existe una ligera asimetría positiva en la distribución, causada por la presencia de valores atípicos positivos grandes que están empujando la media hacia la derecha . Asimismo, los valores atipicos empiezan por encima de los 367 dias y se extienden hasta valores muy grandes ( 700 dias). La mayoria de los dias de antelacion de reserva (rango intercuartilico  Q3 - Q1), están entre 17 y 160 dias, lo que representa el comportamiento típico de los clientes."
   ]
  },
  {
   "cell_type": "code",
   "execution_count": 226,
   "id": "a74cd644",
   "metadata": {},
   "outputs": [
    {
     "name": "stdout",
     "output_type": "stream",
     "text": [
      "Asimetría (skewness): 1.2082573004591315\n",
      "Curtosis: 1.0087856167757177\n"
     ]
    }
   ],
   "source": [
    "# Asimetría\n",
    "skewness = reservation_df[\"lead_time\"].skew()\n",
    "# Curtosis\n",
    "kurtosis = reservation_df[\"lead_time\"].kurt()\n",
    "print(\"Asimetría (skewness):\", skewness)\n",
    "print(\"Curtosis:\", kurtosis)"
   ]
  },
  {
   "cell_type": "markdown",
   "id": "e1f69e9c",
   "metadata": {},
   "source": [
    "Como la asimetria arroja un valor positivo mayor a 1, nos confirma que distribución esta sesgada hacia la derecha. Entonces, existen unos valores positivos muy grandes que estan arrastrando la media hacia la derecha.\n",
    "También, como la curtosis es cercano a uno la variable está sesgada a la derecha y presenta una concentración central fuerte con algunos valores atípicos altos que le dan colas más pesadas."
   ]
  },
  {
   "cell_type": "markdown",
   "id": "42b09e09",
   "metadata": {},
   "source": [
    "## Perfilamiento cliente"
   ]
  },
  {
   "cell_type": "markdown",
   "id": "1bcda547",
   "metadata": {},
   "source": [
    "### Analisis de clientes exitosos"
   ]
  },
  {
   "cell_type": "code",
   "execution_count": null,
   "id": "50a72d3c",
   "metadata": {},
   "outputs": [
    {
     "data": {
      "image/png": "[encoded data removed]",
      "text/plain": [
       "<Figure size 1500x500 with 1 Axes>"
      ]
     },
     "metadata": {},
     "output_type": "display_data"
    }
   ],
   "source": [
    "# Filtrar solo huéspedes que completaron su estadía\n",
    "checkout_df = reservation_df[reservation_df[\"reservation_status\"] == \"Check-Out\"]\n",
    "# obtiene los dias de alojamiento\n",
    "checkout_df[\"days_of_accommodation\"]=(checkout_df[\"stays_in_week_nights\"] + checkout_df[\"stays_in_weekend_nights\"])\n",
    "# obtiene la fecha de check-in\n",
    "checkout_df[\"date_check-in\"]=checkout_df[\"reservation_status_date\"]-pd.to_timedelta(checkout_df[\"days_of_accommodation\"], unit=\"D\")\n",
    "# truncar la fecha del check-in al primer dia del mes para realizar analisis\n",
    "checkout_df[\"date_check-in_truncate_month\"] = checkout_df[\"date_check-in\"].dt.to_period(\"M\").dt.to_timestamp()\n",
    "checkin_counts_resort = checkout_df[checkout_df[\"hotel\"]==\"Resort Hotel\"][\"date_check-in_truncate_month\"].value_counts(normalize=True).sort_index() * 100\n",
    "checkin_counts_hotel= checkout_df[checkout_df[\"hotel\"]==\"City Hotel\"][\"date_check-in_truncate_month\"].value_counts(normalize=True).sort_index() * 100\n",
    "plt.figure(figsize=(15,5))\n",
    "\n",
    "# Línea para Resort Hotel\n",
    "plt.plot(checkin_counts_resort.index, checkin_counts_resort.values, \n",
    "         marker=\"o\", linestyle=\"-\", color=\"blue\", label=\"Resort Hotel\")\n",
    "\n",
    "# Línea para City Hotel\n",
    "plt.plot(checkin_counts_hotel.index, checkin_counts_hotel.values, \n",
    "         marker=\"s\", linestyle=\"-\", color=\"orange\", label=\"City Hotel\")\n",
    "\n",
    "# Personalización\n",
    "plt.title(\"Distribución mensual de check-ins (%)\")\n",
    "plt.xlabel(\"Mes de check-in\")\n",
    "plt.ylabel(\"Porcentaje de reservas\")\n",
    "plt.legend()\n",
    "plt.show()\n"
   ]
  },
  {
   "cell_type": "markdown",
   "id": "0cf3b5e8",
   "metadata": {},
   "source": [
    "Si se compara el intervalo de fecha entre julio de 2015 y octubre de 2016, se observa que en promedio \"City hotel\" tuvo una mayor demanda de hospedaje que \"Resort Hotel\".Tambien este ultimo, tuvo un pico de demanda entre agosto de 2015 y octubre de 2015. Apartir de alli, el comportamiento referente a demanda de hospedaje de los 2 hoteles estuvo similar."
   ]
  },
  {
   "cell_type": "code",
   "execution_count": null,
   "id": "00b6868f",
   "metadata": {},
   "outputs": [
    {
     "data": {
      "text/plain": [
       "adults  children  babies\n",
       "2       0         0         0.685078\n",
       "1       0         0         0.199411\n",
       "2       1         0         0.029687\n",
       "3       0         0         0.027442\n",
       "2       2         0         0.026392\n",
       "                              ...   \n",
       "87      0         0         0.000029\n",
       "92      0         0         0.000029\n",
       "89      0         0         0.000029\n",
       "93      0         0         0.000029\n",
       "98      0         0         0.000029\n",
       "Name: proportion, Length: 114, dtype: float64"
      ]
     },
     "execution_count": 103,
     "metadata": {},
     "output_type": "execute_result"
    }
   ],
   "source": [
    "\n",
    "# Cuales son los el perfil del cliente que se hospeda en los hoteles\n",
    "checkout_df[[\"adults\",\"children\",\"babies\"]].value_counts(dropna=False, normalize=True)"
   ]
  },
  {
   "cell_type": "markdown",
   "id": "2bfcd207",
   "metadata": {},
   "source": [
    "El anterior analisis permite indicar los principales atributos del cliente que se hospedo:  \n",
    "- 68% de las reservas se hicieron para unicamente 2 adultos.\n",
    "- 19% de las reservas se hicieron para unicamente un adulto. \n",
    "- Cerca del 3% fue para unicamente 3 adultos. \n",
    "- Cerca del 2.6% fue para 2 adultos y 2 niños. "
   ]
  },
  {
   "cell_type": "code",
   "execution_count": 152,
   "id": "7cf3eafb",
   "metadata": {},
   "outputs": [
    {
     "data": {
      "text/plain": [
       "stays_in_weekend_nights  stays_in_week_nights\n",
       "0                        2                       17.357223\n",
       "2                        5                       10.220519\n",
       "0                        3                        9.402188\n",
       "                         1                        9.001637\n",
       "1                        2                        7.843053\n",
       "                                                   ...    \n",
       "6                        16                       0.004307\n",
       "8                        19                       0.004307\n",
       "9                        24                       0.004307\n",
       "12                       30                       0.004307\n",
       "16                       40                       0.004307\n",
       "Name: proportion, Length: 65, dtype: float64"
      ]
     },
     "execution_count": 152,
     "metadata": {},
     "output_type": "execute_result"
    }
   ],
   "source": [
    "checkout_df[[\"stays_in_weekend_nights\",\"stays_in_week_nights\"]].value_counts(dropna=False, normalize=True)*100"
   ]
  },
  {
   "cell_type": "markdown",
   "id": "3bf88464",
   "metadata": {},
   "source": [
    "El 17% de los clientes exitosos, se quedan 2 dias entre semana. Estos son los dias mas solicitados por los clientes. Enseguida, el 10 % de los clientes se quedan una semana completa (5 noches entre semana + 2 noches los fines de semana). Luego, cerca del 9 % se queda 3 dias entre semana. Asimismo, cerca tambien del 9% se queda 3 dias en la semana (2 noches entre semana y una noche los fines de semana)."
   ]
  },
  {
   "cell_type": "code",
   "execution_count": 139,
   "id": "ca7e9ff1",
   "metadata": {},
   "outputs": [
    {
     "data": {
      "text/plain": [
       "reserved_room_type\n",
       "A    63.550203\n",
       "D    16.876148\n",
       "E    10.407979\n",
       "F     2.974541\n",
       "G     2.784987\n",
       "C     1.767228\n",
       "H     1.032341\n",
       "B     0.594908\n",
       "L     0.011665\n",
       "Name: proportion, dtype: float64"
      ]
     },
     "execution_count": 139,
     "metadata": {},
     "output_type": "execute_result"
    }
   ],
   "source": [
    "checkout_df[\"reserved_room_type\"].value_counts(dropna=False, normalize=True)*100"
   ]
  },
  {
   "cell_type": "markdown",
   "id": "eda55362",
   "metadata": {},
   "source": [
    "El tipo de habitacion A es la mas solicitada por el cliente que se hospedo satisfactoriamente (cerca del 63%) y como de anteriores análisis se sabe que las el 68% de las reservas se hicieron para 2 adultos, se puede inferir que el tipo de habitacion A es para máximo 2 personas. El 16% de los clientes se hospedan en la habitacion tipo D y el 10% en el tipo E. Lo anterior nos indica que las habitaciones para maximo 2 personas son las reservadas."
   ]
  },
  {
   "cell_type": "code",
   "execution_count": 137,
   "id": "2dd510c8",
   "metadata": {},
   "outputs": [
    {
     "data": {
      "text/plain": [
       "customer_type\n",
       "Transient          65.229944\n",
       "Transient-Party    26.770873\n",
       "Contract            6.220291\n",
       "NaN                 0.982765\n",
       "Group               0.796127\n",
       "Name: proportion, dtype: float64"
      ]
     },
     "execution_count": 137,
     "metadata": {},
     "output_type": "execute_result"
    }
   ],
   "source": [
    "checkout_df[\"customer_type\"].value_counts(dropna=False, normalize=True)*100"
   ]
  },
  {
   "cell_type": "markdown",
   "id": "f7bd58d3",
   "metadata": {},
   "source": [
    "El anterior analisis nos da mas pista acerca del perfil del cliente que tuvo con exito un hospedaje. Por ejemplo, cerca del 65% del cliente hizo una reserva tipo contract (es una reserva individual, sin relación con contratos ni grupos). cerca del 26 % fue una reserva tipo Transient-party (reserva individual (transient), pero está ligada a otra reserva individual). Cerca del 6% es de tipo Contract (La reserva hace parte de un contrato o convenio entre el hotel y una empresa, agencia de viajes, aerolínea). Y menos del 1% es de tipo Group (reserva está asociada a un grupo de personas que viajan juntas)"
   ]
  },
  {
   "cell_type": "code",
   "execution_count": 138,
   "id": "94b472fb",
   "metadata": {},
   "outputs": [
    {
     "data": {
      "text/plain": [
       "meal     \n",
       "BB           77.244758\n",
       "HB           18.036803\n",
       "Undefined     2.554606\n",
       "SC            1.256890\n",
       "FB            0.906944\n",
       "Name: proportion, dtype: float64"
      ]
     },
     "execution_count": 138,
     "metadata": {},
     "output_type": "execute_result"
    }
   ],
   "source": [
    "checkout_df[[\"meal\"]].value_counts(dropna=False, normalize=True)*100"
   ]
  },
  {
   "cell_type": "markdown",
   "id": "731aa175",
   "metadata": {},
   "source": [
    "El 77% de los clientes que se hospedaron selecciono un modelo de comidas BB (Bed & Breakfast), es decir, hospedaje mas desayuno. El 18% lo hizo con un modelo HB (Half board), es decir, hospedaje mas desayuno y usulamente la cena."
   ]
  },
  {
   "cell_type": "code",
   "execution_count": 125,
   "id": "80ea3b3f",
   "metadata": {},
   "outputs": [
    {
     "data": {
      "image/png": "[encoded data removed]",
      "text/plain": [
       "<Figure size 1000x600 with 2 Axes>"
      ]
     },
     "metadata": {},
     "output_type": "display_data"
    }
   ],
   "source": [
    "\n",
    "# --- Top países (ya normalizado en proporción con normalize=True) ---\n",
    "top_countries = checkout_df[\"country\"].value_counts(normalize=True).head(10) * 100\n",
    "\n",
    "# Calcular acumulado\n",
    "cum_values = top_countries.cumsum()\n",
    "\n",
    "# Crear figura\n",
    "fig, ax1 = plt.subplots(figsize=(10,6))\n",
    "\n",
    "# Barras (frecuencia relativa en %)\n",
    "ax1.bar(top_countries.index, top_countries.values, color=\"skyblue\")\n",
    "ax1.set_ylabel(\"Porcentaje de huéspedes (%)\")\n",
    "ax1.set_xlabel(\"País\")\n",
    "ax1.set_title(\"Diagrama de Pareto - Top países con reservas exitosas\")\n",
    "ax1.set_ylim(0, top_countries.max() * 1.2)\n",
    "\n",
    "# Eje secundario para acumulado\n",
    "ax2 = ax1.twinx()\n",
    "ax2.plot(top_countries.index, cum_values.values, color=\"red\", marker=\"o\", linestyle=\"-\")\n",
    "ax2.set_ylabel(\"Porcentaje acumulado (%)\")\n",
    "ax2.set_ylim(0, 105)  # hasta 100%\n",
    "\n",
    "# Línea horizontal en 80%\n",
    "ax2.axhline(80, color=\"green\", linestyle=\"--\", label=\"80%\")\n",
    "ax2.legend(loc=\"lower right\")\n",
    "\n",
    "plt.show()\n"
   ]
  },
  {
   "cell_type": "markdown",
   "id": "40365405",
   "metadata": {},
   "source": [
    "Segun el diagrama de Bareto, cerca del 80% del total de las reservas exitosas(punto donde se intersecta la linea roja que representa el acomulado de la cantidad de reservas por pais de origen del cliente con la linea verde que representa el 80% del total de las reservas)  provienen del top 6 de pais de origen de los clientes y son: Portugal (35.8 %), Reino Unido (17.88%), España (10.98%), Francia (6.17%), Irlanda (5%) y Alemania (4.35%). Por lo tanto, las campañas para atracción de clientes, se deben enfocar en atraer clientes de estos paises."
   ]
  },
  {
   "cell_type": "code",
   "execution_count": 133,
   "id": "9fd97cda",
   "metadata": {},
   "outputs": [
    {
     "data": {
      "text/plain": [
       "is_repeated_guest\n",
       "0    95.199907\n",
       "1     4.800093\n",
       "Name: proportion, dtype: float64"
      ]
     },
     "execution_count": 133,
     "metadata": {},
     "output_type": "execute_result"
    }
   ],
   "source": [
    "checkout_df[\"is_repeated_guest\"].value_counts(dropna=False, normalize=True)*100"
   ]
  },
  {
   "cell_type": "markdown",
   "id": "116f7739",
   "metadata": {},
   "source": [
    "Los clientes que se hospedaron de forma satisfactoria, en su mayoría son nuevos (cerca del 95) y solo el 4% eran clientes antiguos. Existe una gran oportunidad para mejorar la politica de retención de clientes, y seguir fortaleciendo la politica de atracción de nuevos clientes."
   ]
  },
  {
   "cell_type": "code",
   "execution_count": 136,
   "id": "7988aee1",
   "metadata": {},
   "outputs": [
    {
     "data": {
      "text/plain": [
       "company\n",
       "<NA>    91.796681\n",
       "223      1.907206\n",
       "154      0.367443\n",
       "281      0.349946\n",
       "405      0.236214\n",
       "          ...    \n",
       "67       0.002916\n",
       "65       0.002916\n",
       "91       0.002916\n",
       "8        0.002916\n",
       "221      0.002916\n",
       "Name: proportion, Length: 231, dtype: Float64"
      ]
     },
     "execution_count": 136,
     "metadata": {},
     "output_type": "execute_result"
    }
   ],
   "source": [
    "checkout_df[\"company\"].value_counts(dropna=False, normalize=True)*100"
   ]
  },
  {
   "cell_type": "markdown",
   "id": "77965d1a",
   "metadata": {},
   "source": [
    "No se tiene información que indique la compañia o entidad donde fue realizada la reserva o fue la responsable del pago de la misma, lo que causa que no se pueda analizar que compañias son las que mas direccionan clientes en los hoteles."
   ]
  },
  {
   "cell_type": "markdown",
   "id": "cfcd6b51",
   "metadata": {},
   "source": [
    "### Analisis de clientes con reservas canceladas"
   ]
  },
  {
   "cell_type": "code",
   "execution_count": 222,
   "id": "9678af79",
   "metadata": {},
   "outputs": [
    {
     "name": "stderr",
     "output_type": "stream",
     "text": [
      "C:\\Users\\Diego\\AppData\\Local\\Temp\\ipykernel_19780\\827879376.py:5: SettingWithCopyWarning: \n",
      "A value is trying to be set on a copy of a slice from a DataFrame.\n",
      "Try using .loc[row_indexer,col_indexer] = value instead\n",
      "\n",
      "See the caveats in the documentation: https://pandas.pydata.org/pandas-docs/stable/user_guide/indexing.html#returning-a-view-versus-a-copy\n",
      "  canceled_df[\"date_canceled_truncate_month\"] = canceled_df[\"reservation_status_date\"].dt.to_period(\"M\").dt.to_timestamp()\n"
     ]
    },
    {
     "data": {
      "image/png": "[encoded data removed]",
      "text/plain": [
       "<Figure size 1500x500 with 1 Axes>"
      ]
     },
     "metadata": {},
     "output_type": "display_data"
    }
   ],
   "source": [
    "# Filtrar solo huéspedes que cancelaron su estadía\n",
    "canceled_df = reservation_df[reservation_df[\"reservation_status\"] == \"Canceled\"]\n",
    "\n",
    "# truncar la fecha del cancelamiento al primer dia del mes para realizar analisis\n",
    "canceled_df[\"date_canceled_truncate_month\"] = canceled_df[\"reservation_status_date\"].dt.to_period(\"M\").dt.to_timestamp()\n",
    "canceled_df_resort = canceled_df[canceled_df[\"hotel\"]==\"Resort Hotel\"][\"date_canceled_truncate_month\"].value_counts(normalize=True).sort_index() * 100\n",
    "canceled_df_hotel= canceled_df[canceled_df[\"hotel\"]==\"City Hotel\"][\"date_canceled_truncate_month\"].value_counts(normalize=True).sort_index() * 100\n",
    "plt.figure(figsize=(15,5))\n",
    "\n",
    "# Línea para Resort Hotel\n",
    "plt.plot(canceled_df_resort.index, canceled_df_resort.values, \n",
    "         marker=\"o\", linestyle=\"-\", color=\"blue\", label=\"Resort Hotel\")\n",
    "\n",
    "# Línea para City Hotel\n",
    "plt.plot(canceled_df_hotel.index, canceled_df_hotel.values, \n",
    "         marker=\"s\", linestyle=\"-\", color=\"orange\", label=\"City Hotel\")\n",
    "\n",
    "# Personalización\n",
    "plt.title(\"Distribución mensual de cancelaciones (%)\")\n",
    "plt.xlabel(\"Mes de cancelacion\")\n",
    "plt.ylabel(\"Porcentaje de cancelacion\")\n",
    "plt.legend()\n",
    "plt.show()"
   ]
  },
  {
   "cell_type": "markdown",
   "id": "f80c9621",
   "metadata": {},
   "source": [
    "En \"city hotel \"existe un pico de cancelaciones de reservas entre febrero de 2016 y septiembre de 2016. Tambien, hubo un pico de un solo mes de cancelaciones en octubre de 2015. Por otro lado, en el \"resort hotel\", no se presentan picos tan alto de cancelaciones aunque hay oscilaciones, las cancelaciones se mantienen en valores más bajos (entre 2% y 6%), sin picos extremos.\n",
    "City Hotel es más vulnerable a fluctuaciones en las cancelaciones, probablemente por la naturaleza de su clientela (viajes de negocio, estancias cortas, mayor dependencia de la coyuntura económica o eventos puntuales). Resort Hotel mantiene una estabilidad relativa, sugiriendo una clientela más comprometida con sus reservas."
   ]
  },
  {
   "cell_type": "code",
   "execution_count": null,
   "id": "91600782",
   "metadata": {},
   "outputs": [
    {
     "data": {
      "text/plain": [
       "adults  children  babies\n",
       "2       0         0         73.124300\n",
       "1       0         0         13.579981\n",
       "2       2         0          4.242398\n",
       "3       0         0          3.527436\n",
       "2       1         0          2.825394\n",
       "                              ...    \n",
       "86      0         0          0.004307\n",
       "91      0         0          0.004307\n",
       "92      0         0          0.004307\n",
       "98      0         0          0.004307\n",
       "100     0         0          0.004307\n",
       "Name: proportion, Length: 99, dtype: float64"
      ]
     },
     "execution_count": 215,
     "metadata": {},
     "output_type": "execute_result"
    }
   ],
   "source": [
    "\n",
    "# Cuales son los el perfil del cliente que se hospeda en los hoteles\n",
    "canceled_df[[\"adults\",\"children\",\"babies\"]].value_counts(dropna=False, normalize=True)*100"
   ]
  },
  {
   "cell_type": "markdown",
   "id": "9d3aa79b",
   "metadata": {},
   "source": [
    "El anterior analisis permite indicar los principales atributos del cliente que se hospedo:  \n",
    "- 73% de las reservas canceladas se hicieron para unicamente 2 adultos\n",
    "- 13% de las reservas canceladas se hicieron para unicamente 1 adulto \n",
    "- Cerca del 4% de las reservas canceladas fue para 2 adultos y 2 niños\n",
    "- Cerca del 3% de las reservas canceladas fue para 3 adultos. "
   ]
  },
  {
   "cell_type": "code",
   "execution_count": 216,
   "id": "c4af594d",
   "metadata": {},
   "outputs": [
    {
     "data": {
      "text/plain": [
       "reserved_room_type\n",
       "A    70.634852\n",
       "D    15.087432\n",
       "E     6.339909\n",
       "G     2.872771\n",
       "F     1.981221\n",
       "C     1.261952\n",
       "H     1.029374\n",
       "B     0.779568\n",
       "P     0.008614\n",
       "L     0.004307\n",
       "Name: proportion, dtype: float64"
      ]
     },
     "execution_count": 216,
     "metadata": {},
     "output_type": "execute_result"
    }
   ],
   "source": [
    "canceled_df[\"reserved_room_type\"].value_counts(dropna=False, normalize=True)*100"
   ]
  },
  {
   "cell_type": "markdown",
   "id": "eaf1c0b4",
   "metadata": {},
   "source": [
    "El tipo de habitacion A y D (70% y 15% respectivamente) son las el tipo de habitacion mas canceladas por el cliente"
   ]
  },
  {
   "cell_type": "code",
   "execution_count": 217,
   "id": "95cf7902",
   "metadata": {},
   "outputs": [
    {
     "data": {
      "text/plain": [
       "customer_type\n",
       "Transient          81.932122\n",
       "Transient-Party    15.548282\n",
       "Contract            1.348092\n",
       "NaN                 1.025067\n",
       "Group               0.146438\n",
       "Name: proportion, dtype: float64"
      ]
     },
     "execution_count": 217,
     "metadata": {},
     "output_type": "execute_result"
    }
   ],
   "source": [
    "canceled_df[\"customer_type\"].value_counts(dropna=False, normalize=True)*100"
   ]
  },
  {
   "cell_type": "markdown",
   "id": "401e87a6",
   "metadata": {},
   "source": [
    "La mayoria de cancelaciones se realizan sobre el tipo Transient (cerca del 81%). Lo que nos indica que los clientes que mayoritariamente cancelaron viajan solos. "
   ]
  },
  {
   "cell_type": "code",
   "execution_count": 218,
   "id": "243126c2",
   "metadata": {},
   "outputs": [
    {
     "data": {
      "text/plain": [
       "is_repeated_guest  previous_cancellations\n",
       "0                  0                         95.998794\n",
       "                   1                          2.872771\n",
       "1                  1                          0.331639\n",
       "0                  24                         0.206736\n",
       "                   26                         0.111982\n",
       "                   25                         0.107675\n",
       "                   2                          0.086140\n",
       "                   19                         0.081833\n",
       "                   14                         0.055991\n",
       "1                  0                          0.051684\n",
       "0                  3                          0.038763\n",
       "1                  2                          0.021535\n",
       "                   3                          0.017228\n",
       "                   4                          0.012921\n",
       "                   5                          0.004307\n",
       "Name: proportion, dtype: float64"
      ]
     },
     "execution_count": 218,
     "metadata": {},
     "output_type": "execute_result"
    }
   ],
   "source": [
    "canceled_df[[\"is_repeated_guest\",\"previous_cancellations\"]].value_counts(dropna=False, normalize=True)*100"
   ]
  },
  {
   "cell_type": "markdown",
   "id": "5ea2e302",
   "metadata": {},
   "source": [
    "La mayoria de clientes que cancelan son clientes nuevos y no tienen anteriores cancelaciones."
   ]
  },
  {
   "cell_type": "code",
   "execution_count": 219,
   "id": "00ce5777",
   "metadata": {},
   "outputs": [
    {
     "data": {
      "text/html": [
       "<div>\n",
       "<style scoped>\n",
       "    .dataframe tbody tr th:only-of-type {\n",
       "        vertical-align: middle;\n",
       "    }\n",
       "\n",
       "    .dataframe tbody tr th {\n",
       "        vertical-align: top;\n",
       "    }\n",
       "\n",
       "    .dataframe thead th {\n",
       "        text-align: right;\n",
       "    }\n",
       "</style>\n",
       "<table border=\"1\" class=\"dataframe\">\n",
       "  <thead>\n",
       "    <tr style=\"text-align: right;\">\n",
       "      <th></th>\n",
       "      <th>is_canceled</th>\n",
       "      <th>reservation_status</th>\n",
       "      <th>count</th>\n",
       "    </tr>\n",
       "  </thead>\n",
       "  <tbody>\n",
       "    <tr>\n",
       "      <th>0</th>\n",
       "      <td>0</td>\n",
       "      <td>Check-Out</td>\n",
       "      <td>34291</td>\n",
       "    </tr>\n",
       "    <tr>\n",
       "      <th>1</th>\n",
       "      <td>1</td>\n",
       "      <td>Canceled</td>\n",
       "      <td>23218</td>\n",
       "    </tr>\n",
       "    <tr>\n",
       "      <th>2</th>\n",
       "      <td>1</td>\n",
       "      <td>No-Show</td>\n",
       "      <td>797</td>\n",
       "    </tr>\n",
       "  </tbody>\n",
       "</table>\n",
       "</div>"
      ],
      "text/plain": [
       "   is_canceled reservation_status  count\n",
       "0            0          Check-Out  34291\n",
       "1            1           Canceled  23218\n",
       "2            1            No-Show    797"
      ]
     },
     "execution_count": 219,
     "metadata": {},
     "output_type": "execute_result"
    }
   ],
   "source": [
    "reservation_df.groupby([\"is_canceled\",\"reservation_status\"]).size().reset_index(name=\"count\")"
   ]
  },
  {
   "cell_type": "markdown",
   "id": "d2906080",
   "metadata": {},
   "source": [
    "Aca podemos observar que cuando el estatus de la reserva es \"No-Show\" (usuario no hizo check-in e informo al hotel la razon), entran en la categoria de cancelados. Entonces existen 2 posibles cancelaciones por parte del usuario, una donde simplemente cancelo la reserva con anticipacion y la otra que cancelo despúes de haber cumplido el plazo del check-in e informo al hotel la razon (Esta razón pareciera que fue por algun inconveniente de ultimo momento del cliente). Por lo tanto, se tiene dos categorias dentro de las cancelaciones:  \n",
    "- Cancelaciones anticipadas (son cerca del 97%)\n",
    "- Cancelaciones tarde (son cerca del 3%)\n"
   ]
  },
  {
   "cell_type": "code",
   "execution_count": null,
   "id": "9fae02ca",
   "metadata": {},
   "outputs": [
    {
     "data": {
      "text/plain": [
       "lead_time\n",
       "37           0.938927\n",
       "0            0.913085\n",
       "44           0.835559\n",
       "1            0.818331\n",
       "87           0.775261\n",
       "               ...   \n",
       "390          0.004307\n",
       "434          0.004307\n",
       "429          0.004307\n",
       "435          0.004307\n",
       "450          0.004307\n",
       "Name: proportion, Length: 406, dtype: float64"
      ]
     },
     "execution_count": 220,
     "metadata": {},
     "output_type": "execute_result"
    }
   ],
   "source": [
    "canceled_df[\"lead_time\"].value_counts(dropna=False, normalize=True)*100\n"
   ]
  },
  {
   "cell_type": "code",
   "execution_count": 239,
   "id": "d9990d78",
   "metadata": {},
   "outputs": [
    {
     "data": {
      "text/plain": [
       "count    23218.000000\n",
       "mean       132.147946\n",
       "std        107.059300\n",
       "min          0.000000\n",
       "25%         45.000000\n",
       "50%        103.000000\n",
       "75%        195.000000\n",
       "max        605.000000\n",
       "Name: lead_time, dtype: float64"
      ]
     },
     "execution_count": 239,
     "metadata": {},
     "output_type": "execute_result"
    }
   ],
   "source": [
    "# Calculating the relative frecuency of lead times\n",
    "canceled_df[\"lead_time\"].describe()\n",
    "#iqr=q3-q1\n",
    "#print(iqr)"
   ]
  },
  {
   "cell_type": "code",
   "execution_count": 246,
   "id": "aa4bd7a0",
   "metadata": {},
   "outputs": [
    {
     "name": "stderr",
     "output_type": "stream",
     "text": [
      "C:\\Users\\Diego\\AppData\\Local\\Temp\\ipykernel_19780\\3991685909.py:7: MatplotlibDeprecationWarning: The 'labels' parameter of boxplot() has been renamed 'tick_labels' since Matplotlib 3.9; support for the old name will be dropped in 3.11.\n",
      "  plt.boxplot(data, showmeans=True, vert=False, labels=[\"Reservas exitosas (Check-Out)\", \"Reservas canceladas\"])\n"
     ]
    },
    {
     "data": {
      "image/png": "[encoded data removed]",
      "text/plain": [
       "<Figure size 2000x500 with 1 Axes>"
      ]
     },
     "metadata": {},
     "output_type": "display_data"
    }
   ],
   "source": [
    "\n",
    "plt.figure(figsize=(20, 5))\n",
    "\n",
    "# Crear lista con los dos conjuntos de datos\n",
    "data = [checkout_df[\"lead_time\"], canceled_df[\"lead_time\"]]\n",
    "\n",
    "# Graficar boxplot\n",
    "plt.boxplot(data, showmeans=True, vert=False, labels=[\"Reservas exitosas (Check-Out)\", \"Reservas canceladas\"])\n",
    "\n",
    "plt.title(\"Distribución de Lead Time por estado de la reserva\")\n",
    "plt.xlabel(\"Días de anticipación (lead_time)\")\n",
    "plt.show()\n"
   ]
  },
  {
   "cell_type": "markdown",
   "id": "2927ae81",
   "metadata": {},
   "source": [
    "El promedio de dias de antelación con la que un cliente exitoso hace la reserva comparado con un cliente que cancela es menor, es decir, un usuario exitoso en promedio reserva con menos dias de antelacion que el usuario que cancela (75 y 140 dias). Asimismo, el 50% de las reservas del cliente exitoso ocurren entre 20 y 130 dias, mientras que el usuario que cancela esta entre 50 y 200 dias. Existe valores atipicos positivos en ambos casos, lo cual hace que existe una asimetria positiva y arrastra la media hacia la derecha, por encima de la mediana. "
   ]
  },
  {
   "cell_type": "markdown",
   "id": "67f3ca8a",
   "metadata": {},
   "source": [
    "## Analisis Ivan\n"
   ]
  },
  {
   "cell_type": "markdown",
   "id": "b90376a9-f334-4398-a61b-8557a4701930",
   "metadata": {},
   "source": []
  },
  {
   "cell_type": "markdown",
   "id": "acaaae01-65cf-4d08-820b-0bfaa385316c",
   "metadata": {},
   "source": [
    "Estrategia de análisis:\n",
    "\n",
    "La estrategia inicia con la validación y limpieza de los datos de reservas para garantizar su calidad, eliminando valores duplicados, transformación de tipos de datos (entre otros). Posteriormente se realizará un análisis univariado para entender y describir las distribuciones de las variables seleccionadas, empleando medidas de tendencia central, dispersión y gráficos como histogramas y boxplots. Con lo anterior se busca identificar patrones generales y posibles valores atípicos. \n",
    "\n",
    "Luego se avanzará con un análisis bivariado para explorar relaciones entre variables, por ejemplo, la influencia del tipo de hotel, el canal de reservación sobre la probabilidad de cancelación. Se utilizará correlaciones y diagramas de dispersión enriquecidos con color por categorías. Finalmente se propondrán visualizaciones que permitan identificar segmentos de clientes y estrategias de precios que contribuyan a reducir cancelaciones y mejorar la ocupación otelera. "
   ]
  },
  {
   "cell_type": "code",
   "execution_count": 15,
   "id": "a848439f-5ab3-44e1-8774-e44ef916702b",
   "metadata": {
    "scrolled": true
   },
   "outputs": [],
   "source": [
    "reservation_df.head(3)\n",
    "reservation_df[\"arrival_date_year\"].unique()\n",
    "df_reservation_mod = reservation_df"
   ]
  },
  {
   "cell_type": "markdown",
   "id": "e17f34da-0e89-4bb2-8d82-67aaa3e5f3f2",
   "metadata": {},
   "source": [
    "Se identifican 13.340 valores nulos (valores iguales en todas sus columnas, en el dataset no hay una llave por la cual agrupar)."
   ]
  },
  {
   "cell_type": "code",
   "execution_count": 16,
   "id": "45add420-3248-481d-b133-c2d572803ccf",
   "metadata": {},
   "outputs": [
    {
     "data": {
      "text/html": [
       "<div>\n",
       "<style scoped>\n",
       "    .dataframe tbody tr th:only-of-type {\n",
       "        vertical-align: middle;\n",
       "    }\n",
       "\n",
       "    .dataframe tbody tr th {\n",
       "        vertical-align: top;\n",
       "    }\n",
       "\n",
       "    .dataframe thead th {\n",
       "        text-align: right;\n",
       "    }\n",
       "</style>\n",
       "<table border=\"1\" class=\"dataframe\">\n",
       "  <thead>\n",
       "    <tr style=\"text-align: right;\">\n",
       "      <th></th>\n",
       "      <th>hotel</th>\n",
       "      <th>is_canceled</th>\n",
       "      <th>lead_time</th>\n",
       "      <th>arrival_date_year</th>\n",
       "      <th>arrival_date_month</th>\n",
       "      <th>arrival_date_week_number</th>\n",
       "      <th>arrival_date_day_of_month</th>\n",
       "      <th>stays_in_weekend_nights</th>\n",
       "      <th>stays_in_week_nights</th>\n",
       "      <th>adults</th>\n",
       "      <th>...</th>\n",
       "      <th>agent</th>\n",
       "      <th>company</th>\n",
       "      <th>days_in_waiting_list</th>\n",
       "      <th>customer_type</th>\n",
       "      <th>adr</th>\n",
       "      <th>required_car_parking_spaces</th>\n",
       "      <th>total_of_special_requests</th>\n",
       "      <th>reservation_status</th>\n",
       "      <th>reservation_status_date</th>\n",
       "      <th>kids</th>\n",
       "    </tr>\n",
       "  </thead>\n",
       "  <tbody>\n",
       "    <tr>\n",
       "      <th>40772</th>\n",
       "      <td>City Hotel</td>\n",
       "      <td>0</td>\n",
       "      <td>0</td>\n",
       "      <td>2015</td>\n",
       "      <td>August</td>\n",
       "      <td>32</td>\n",
       "      <td>7</td>\n",
       "      <td>0</td>\n",
       "      <td>2</td>\n",
       "      <td>2</td>\n",
       "      <td>...</td>\n",
       "      <td>14</td>\n",
       "      <td>&lt;NA&gt;</td>\n",
       "      <td>0</td>\n",
       "      <td>Transient</td>\n",
       "      <td>75.0</td>\n",
       "      <td>0</td>\n",
       "      <td>1</td>\n",
       "      <td>Check-Out</td>\n",
       "      <td>2015-08-09</td>\n",
       "      <td>NaN</td>\n",
       "    </tr>\n",
       "    <tr>\n",
       "      <th>40802</th>\n",
       "      <td>City Hotel</td>\n",
       "      <td>0</td>\n",
       "      <td>0</td>\n",
       "      <td>2015</td>\n",
       "      <td>August</td>\n",
       "      <td>32</td>\n",
       "      <td>7</td>\n",
       "      <td>0</td>\n",
       "      <td>2</td>\n",
       "      <td>2</td>\n",
       "      <td>...</td>\n",
       "      <td>14</td>\n",
       "      <td>&lt;NA&gt;</td>\n",
       "      <td>0</td>\n",
       "      <td>Transient</td>\n",
       "      <td>75.0</td>\n",
       "      <td>0</td>\n",
       "      <td>1</td>\n",
       "      <td>Check-Out</td>\n",
       "      <td>2015-08-09</td>\n",
       "      <td>NaN</td>\n",
       "    </tr>\n",
       "    <tr>\n",
       "      <th>40821</th>\n",
       "      <td>City Hotel</td>\n",
       "      <td>0</td>\n",
       "      <td>0</td>\n",
       "      <td>2015</td>\n",
       "      <td>August</td>\n",
       "      <td>32</td>\n",
       "      <td>8</td>\n",
       "      <td>0</td>\n",
       "      <td>1</td>\n",
       "      <td>2</td>\n",
       "      <td>...</td>\n",
       "      <td>9</td>\n",
       "      <td>&lt;NA&gt;</td>\n",
       "      <td>0</td>\n",
       "      <td>Transient</td>\n",
       "      <td>89.0</td>\n",
       "      <td>0</td>\n",
       "      <td>1</td>\n",
       "      <td>Check-Out</td>\n",
       "      <td>2015-08-09</td>\n",
       "      <td>NaN</td>\n",
       "    </tr>\n",
       "    <tr>\n",
       "      <th>40838</th>\n",
       "      <td>City Hotel</td>\n",
       "      <td>0</td>\n",
       "      <td>0</td>\n",
       "      <td>2015</td>\n",
       "      <td>August</td>\n",
       "      <td>32</td>\n",
       "      <td>8</td>\n",
       "      <td>0</td>\n",
       "      <td>1</td>\n",
       "      <td>2</td>\n",
       "      <td>...</td>\n",
       "      <td>9</td>\n",
       "      <td>&lt;NA&gt;</td>\n",
       "      <td>0</td>\n",
       "      <td>Transient</td>\n",
       "      <td>89.0</td>\n",
       "      <td>0</td>\n",
       "      <td>1</td>\n",
       "      <td>Check-Out</td>\n",
       "      <td>2015-08-09</td>\n",
       "      <td>NaN</td>\n",
       "    </tr>\n",
       "  </tbody>\n",
       "</table>\n",
       "<p>4 rows × 33 columns</p>\n",
       "</div>"
      ],
      "text/plain": [
       "            hotel  is_canceled  lead_time  arrival_date_year  \\\n",
       "40772  City Hotel            0          0               2015   \n",
       "40802  City Hotel            0          0               2015   \n",
       "40821  City Hotel            0          0               2015   \n",
       "40838  City Hotel            0          0               2015   \n",
       "\n",
       "      arrival_date_month  arrival_date_week_number  arrival_date_day_of_month  \\\n",
       "40772             August                        32                          7   \n",
       "40802             August                        32                          7   \n",
       "40821             August                        32                          8   \n",
       "40838             August                        32                          8   \n",
       "\n",
       "       stays_in_weekend_nights  stays_in_week_nights  adults  ...  agent  \\\n",
       "40772                        0                     2       2  ...     14   \n",
       "40802                        0                     2       2  ...     14   \n",
       "40821                        0                     1       2  ...      9   \n",
       "40838                        0                     1       2  ...      9   \n",
       "\n",
       "       company days_in_waiting_list customer_type   adr  \\\n",
       "40772     <NA>                    0     Transient  75.0   \n",
       "40802     <NA>                    0     Transient  75.0   \n",
       "40821     <NA>                    0     Transient  89.0   \n",
       "40838     <NA>                    0     Transient  89.0   \n",
       "\n",
       "      required_car_parking_spaces  total_of_special_requests  \\\n",
       "40772                           0                          1   \n",
       "40802                           0                          1   \n",
       "40821                           0                          1   \n",
       "40838                           0                          1   \n",
       "\n",
       "       reservation_status  reservation_status_date kids  \n",
       "40772           Check-Out               2015-08-09  NaN  \n",
       "40802           Check-Out               2015-08-09  NaN  \n",
       "40821           Check-Out               2015-08-09  NaN  \n",
       "40838           Check-Out               2015-08-09  NaN  \n",
       "\n",
       "[4 rows x 33 columns]"
      ]
     },
     "execution_count": 16,
     "metadata": {},
     "output_type": "execute_result"
    }
   ],
   "source": [
    "df_reservation_mod.duplicated().sum()\n",
    "dups_all = df_reservation_mod[df_reservation_mod.duplicated(keep=False)].sort_values(list(df_reservation_mod.columns))\n",
    "dups_all.head(4)"
   ]
  },
  {
   "cell_type": "code",
   "execution_count": 17,
   "id": "a583f7a3-b036-41da-ab35-584fe1f30722",
   "metadata": {},
   "outputs": [
    {
     "data": {
      "text/html": [
       "<div>\n",
       "<style scoped>\n",
       "    .dataframe tbody tr th:only-of-type {\n",
       "        vertical-align: middle;\n",
       "    }\n",
       "\n",
       "    .dataframe tbody tr th {\n",
       "        vertical-align: top;\n",
       "    }\n",
       "\n",
       "    .dataframe thead th {\n",
       "        text-align: right;\n",
       "    }\n",
       "</style>\n",
       "<table border=\"1\" class=\"dataframe\">\n",
       "  <thead>\n",
       "    <tr style=\"text-align: right;\">\n",
       "      <th></th>\n",
       "      <th>hotel</th>\n",
       "      <th>is_canceled</th>\n",
       "      <th>lead_time</th>\n",
       "      <th>arrival_date_year</th>\n",
       "      <th>arrival_date_month</th>\n",
       "      <th>arrival_date_week_number</th>\n",
       "      <th>arrival_date_day_of_month</th>\n",
       "      <th>stays_in_weekend_nights</th>\n",
       "      <th>stays_in_week_nights</th>\n",
       "      <th>adults</th>\n",
       "      <th>...</th>\n",
       "      <th>agent</th>\n",
       "      <th>company</th>\n",
       "      <th>days_in_waiting_list</th>\n",
       "      <th>customer_type</th>\n",
       "      <th>adr</th>\n",
       "      <th>required_car_parking_spaces</th>\n",
       "      <th>total_of_special_requests</th>\n",
       "      <th>reservation_status</th>\n",
       "      <th>reservation_status_date</th>\n",
       "      <th>kids</th>\n",
       "    </tr>\n",
       "  </thead>\n",
       "  <tbody>\n",
       "    <tr>\n",
       "      <th>0</th>\n",
       "      <td>Resort Hotel</td>\n",
       "      <td>0</td>\n",
       "      <td>342</td>\n",
       "      <td>2015</td>\n",
       "      <td>July</td>\n",
       "      <td>27</td>\n",
       "      <td>1</td>\n",
       "      <td>0</td>\n",
       "      <td>0</td>\n",
       "      <td>2</td>\n",
       "      <td>...</td>\n",
       "      <td>&lt;NA&gt;</td>\n",
       "      <td>&lt;NA&gt;</td>\n",
       "      <td>0</td>\n",
       "      <td>Transient</td>\n",
       "      <td>0.00</td>\n",
       "      <td>0</td>\n",
       "      <td>0</td>\n",
       "      <td>Check-Out</td>\n",
       "      <td>2015-07-01</td>\n",
       "      <td>NaN</td>\n",
       "    </tr>\n",
       "    <tr>\n",
       "      <th>1</th>\n",
       "      <td>Resort Hotel</td>\n",
       "      <td>0</td>\n",
       "      <td>737</td>\n",
       "      <td>2015</td>\n",
       "      <td>July</td>\n",
       "      <td>27</td>\n",
       "      <td>1</td>\n",
       "      <td>0</td>\n",
       "      <td>0</td>\n",
       "      <td>2</td>\n",
       "      <td>...</td>\n",
       "      <td>&lt;NA&gt;</td>\n",
       "      <td>&lt;NA&gt;</td>\n",
       "      <td>0</td>\n",
       "      <td>Transient</td>\n",
       "      <td>0.00</td>\n",
       "      <td>0</td>\n",
       "      <td>0</td>\n",
       "      <td>Check-Out</td>\n",
       "      <td>2015-07-01</td>\n",
       "      <td>NaN</td>\n",
       "    </tr>\n",
       "    <tr>\n",
       "      <th>2</th>\n",
       "      <td>Resort Hotel</td>\n",
       "      <td>0</td>\n",
       "      <td>7</td>\n",
       "      <td>2015</td>\n",
       "      <td>July</td>\n",
       "      <td>27</td>\n",
       "      <td>1</td>\n",
       "      <td>0</td>\n",
       "      <td>1</td>\n",
       "      <td>1</td>\n",
       "      <td>...</td>\n",
       "      <td>&lt;NA&gt;</td>\n",
       "      <td>&lt;NA&gt;</td>\n",
       "      <td>0</td>\n",
       "      <td>Transient</td>\n",
       "      <td>75.00</td>\n",
       "      <td>0</td>\n",
       "      <td>0</td>\n",
       "      <td>Check-Out</td>\n",
       "      <td>2015-07-02</td>\n",
       "      <td>NaN</td>\n",
       "    </tr>\n",
       "    <tr>\n",
       "      <th>3</th>\n",
       "      <td>Resort Hotel</td>\n",
       "      <td>0</td>\n",
       "      <td>13</td>\n",
       "      <td>2015</td>\n",
       "      <td>July</td>\n",
       "      <td>27</td>\n",
       "      <td>1</td>\n",
       "      <td>0</td>\n",
       "      <td>1</td>\n",
       "      <td>1</td>\n",
       "      <td>...</td>\n",
       "      <td>304</td>\n",
       "      <td>&lt;NA&gt;</td>\n",
       "      <td>0</td>\n",
       "      <td>Transient</td>\n",
       "      <td>75.00</td>\n",
       "      <td>0</td>\n",
       "      <td>0</td>\n",
       "      <td>Check-Out</td>\n",
       "      <td>2015-07-02</td>\n",
       "      <td>NaN</td>\n",
       "    </tr>\n",
       "    <tr>\n",
       "      <th>4</th>\n",
       "      <td>Resort Hotel</td>\n",
       "      <td>0</td>\n",
       "      <td>14</td>\n",
       "      <td>2015</td>\n",
       "      <td>July</td>\n",
       "      <td>27</td>\n",
       "      <td>1</td>\n",
       "      <td>0</td>\n",
       "      <td>2</td>\n",
       "      <td>2</td>\n",
       "      <td>...</td>\n",
       "      <td>240</td>\n",
       "      <td>&lt;NA&gt;</td>\n",
       "      <td>0</td>\n",
       "      <td>Transient</td>\n",
       "      <td>98.00</td>\n",
       "      <td>0</td>\n",
       "      <td>1</td>\n",
       "      <td>Check-Out</td>\n",
       "      <td>2015-07-03</td>\n",
       "      <td>NaN</td>\n",
       "    </tr>\n",
       "    <tr>\n",
       "      <th>...</th>\n",
       "      <td>...</td>\n",
       "      <td>...</td>\n",
       "      <td>...</td>\n",
       "      <td>...</td>\n",
       "      <td>...</td>\n",
       "      <td>...</td>\n",
       "      <td>...</td>\n",
       "      <td>...</td>\n",
       "      <td>...</td>\n",
       "      <td>...</td>\n",
       "      <td>...</td>\n",
       "      <td>...</td>\n",
       "      <td>...</td>\n",
       "      <td>...</td>\n",
       "      <td>...</td>\n",
       "      <td>...</td>\n",
       "      <td>...</td>\n",
       "      <td>...</td>\n",
       "      <td>...</td>\n",
       "      <td>...</td>\n",
       "      <td>...</td>\n",
       "    </tr>\n",
       "    <tr>\n",
       "      <th>58890</th>\n",
       "      <td>Resort Hotel</td>\n",
       "      <td>0</td>\n",
       "      <td>3</td>\n",
       "      <td>2016</td>\n",
       "      <td>April</td>\n",
       "      <td>16</td>\n",
       "      <td>11</td>\n",
       "      <td>1</td>\n",
       "      <td>0</td>\n",
       "      <td>1</td>\n",
       "      <td>...</td>\n",
       "      <td>240</td>\n",
       "      <td>&lt;NA&gt;</td>\n",
       "      <td>0</td>\n",
       "      <td>Transient-Party</td>\n",
       "      <td>56.00</td>\n",
       "      <td>0</td>\n",
       "      <td>1</td>\n",
       "      <td>Check-Out</td>\n",
       "      <td>2016-04-12</td>\n",
       "      <td>NaN</td>\n",
       "    </tr>\n",
       "    <tr>\n",
       "      <th>58891</th>\n",
       "      <td>Resort Hotel</td>\n",
       "      <td>1</td>\n",
       "      <td>158</td>\n",
       "      <td>2016</td>\n",
       "      <td>May</td>\n",
       "      <td>20</td>\n",
       "      <td>8</td>\n",
       "      <td>2</td>\n",
       "      <td>2</td>\n",
       "      <td>2</td>\n",
       "      <td>...</td>\n",
       "      <td>250</td>\n",
       "      <td>&lt;NA&gt;</td>\n",
       "      <td>0</td>\n",
       "      <td>Transient</td>\n",
       "      <td>83.05</td>\n",
       "      <td>0</td>\n",
       "      <td>1</td>\n",
       "      <td>Canceled</td>\n",
       "      <td>2016-01-21</td>\n",
       "      <td>NaN</td>\n",
       "    </tr>\n",
       "    <tr>\n",
       "      <th>58892</th>\n",
       "      <td>City Hotel</td>\n",
       "      <td>1</td>\n",
       "      <td>18</td>\n",
       "      <td>2016</td>\n",
       "      <td>August</td>\n",
       "      <td>32</td>\n",
       "      <td>6</td>\n",
       "      <td>2</td>\n",
       "      <td>2</td>\n",
       "      <td>2</td>\n",
       "      <td>...</td>\n",
       "      <td>9</td>\n",
       "      <td>&lt;NA&gt;</td>\n",
       "      <td>0</td>\n",
       "      <td>Transient</td>\n",
       "      <td>151.00</td>\n",
       "      <td>0</td>\n",
       "      <td>2</td>\n",
       "      <td>Canceled</td>\n",
       "      <td>2016-07-28</td>\n",
       "      <td>NaN</td>\n",
       "    </tr>\n",
       "    <tr>\n",
       "      <th>58893</th>\n",
       "      <td>Resort Hotel</td>\n",
       "      <td>1</td>\n",
       "      <td>383</td>\n",
       "      <td>2016</td>\n",
       "      <td>October</td>\n",
       "      <td>41</td>\n",
       "      <td>6</td>\n",
       "      <td>1</td>\n",
       "      <td>3</td>\n",
       "      <td>2</td>\n",
       "      <td>...</td>\n",
       "      <td>315</td>\n",
       "      <td>&lt;NA&gt;</td>\n",
       "      <td>0</td>\n",
       "      <td>Transient-Party</td>\n",
       "      <td>48.00</td>\n",
       "      <td>0</td>\n",
       "      <td>0</td>\n",
       "      <td>Canceled</td>\n",
       "      <td>2016-03-04</td>\n",
       "      <td>NaN</td>\n",
       "    </tr>\n",
       "    <tr>\n",
       "      <th>58894</th>\n",
       "      <td>City Hotel</td>\n",
       "      <td>1</td>\n",
       "      <td>185</td>\n",
       "      <td>2016</td>\n",
       "      <td>July</td>\n",
       "      <td>28</td>\n",
       "      <td>5</td>\n",
       "      <td>0</td>\n",
       "      <td>4</td>\n",
       "      <td>2</td>\n",
       "      <td>...</td>\n",
       "      <td>9</td>\n",
       "      <td>&lt;NA&gt;</td>\n",
       "      <td>0</td>\n",
       "      <td>Transient</td>\n",
       "      <td>90.95</td>\n",
       "      <td>0</td>\n",
       "      <td>1</td>\n",
       "      <td>Canceled</td>\n",
       "      <td>2016-05-31</td>\n",
       "      <td>NaN</td>\n",
       "    </tr>\n",
       "  </tbody>\n",
       "</table>\n",
       "<p>55195 rows × 33 columns</p>\n",
       "</div>"
      ],
      "text/plain": [
       "              hotel  is_canceled  lead_time  arrival_date_year  \\\n",
       "0      Resort Hotel            0        342               2015   \n",
       "1      Resort Hotel            0        737               2015   \n",
       "2      Resort Hotel            0          7               2015   \n",
       "3      Resort Hotel            0         13               2015   \n",
       "4      Resort Hotel            0         14               2015   \n",
       "...             ...          ...        ...                ...   \n",
       "58890  Resort Hotel            0          3               2016   \n",
       "58891  Resort Hotel            1        158               2016   \n",
       "58892    City Hotel            1         18               2016   \n",
       "58893  Resort Hotel            1        383               2016   \n",
       "58894    City Hotel            1        185               2016   \n",
       "\n",
       "      arrival_date_month  arrival_date_week_number  arrival_date_day_of_month  \\\n",
       "0                   July                        27                          1   \n",
       "1                   July                        27                          1   \n",
       "2                   July                        27                          1   \n",
       "3                   July                        27                          1   \n",
       "4                   July                        27                          1   \n",
       "...                  ...                       ...                        ...   \n",
       "58890              April                        16                         11   \n",
       "58891                May                        20                          8   \n",
       "58892             August                        32                          6   \n",
       "58893            October                        41                          6   \n",
       "58894               July                        28                          5   \n",
       "\n",
       "       stays_in_weekend_nights  stays_in_week_nights  adults  ...  agent  \\\n",
       "0                            0                     0       2  ...   <NA>   \n",
       "1                            0                     0       2  ...   <NA>   \n",
       "2                            0                     1       1  ...   <NA>   \n",
       "3                            0                     1       1  ...    304   \n",
       "4                            0                     2       2  ...    240   \n",
       "...                        ...                   ...     ...  ...    ...   \n",
       "58890                        1                     0       1  ...    240   \n",
       "58891                        2                     2       2  ...    250   \n",
       "58892                        2                     2       2  ...      9   \n",
       "58893                        1                     3       2  ...    315   \n",
       "58894                        0                     4       2  ...      9   \n",
       "\n",
       "       company days_in_waiting_list    customer_type     adr  \\\n",
       "0         <NA>                    0        Transient    0.00   \n",
       "1         <NA>                    0        Transient    0.00   \n",
       "2         <NA>                    0        Transient   75.00   \n",
       "3         <NA>                    0        Transient   75.00   \n",
       "4         <NA>                    0        Transient   98.00   \n",
       "...        ...                  ...              ...     ...   \n",
       "58890     <NA>                    0  Transient-Party   56.00   \n",
       "58891     <NA>                    0        Transient   83.05   \n",
       "58892     <NA>                    0        Transient  151.00   \n",
       "58893     <NA>                    0  Transient-Party   48.00   \n",
       "58894     <NA>                    0        Transient   90.95   \n",
       "\n",
       "      required_car_parking_spaces  total_of_special_requests  \\\n",
       "0                               0                          0   \n",
       "1                               0                          0   \n",
       "2                               0                          0   \n",
       "3                               0                          0   \n",
       "4                               0                          1   \n",
       "...                           ...                        ...   \n",
       "58890                           0                          1   \n",
       "58891                           0                          1   \n",
       "58892                           0                          2   \n",
       "58893                           0                          0   \n",
       "58894                           0                          1   \n",
       "\n",
       "       reservation_status  reservation_status_date kids  \n",
       "0               Check-Out               2015-07-01  NaN  \n",
       "1               Check-Out               2015-07-01  NaN  \n",
       "2               Check-Out               2015-07-02  NaN  \n",
       "3               Check-Out               2015-07-02  NaN  \n",
       "4               Check-Out               2015-07-03  NaN  \n",
       "...                   ...                      ...  ...  \n",
       "58890           Check-Out               2016-04-12  NaN  \n",
       "58891            Canceled               2016-01-21  NaN  \n",
       "58892            Canceled               2016-07-28  NaN  \n",
       "58893            Canceled               2016-03-04  NaN  \n",
       "58894            Canceled               2016-05-31  NaN  \n",
       "\n",
       "[55195 rows x 33 columns]"
      ]
     },
     "execution_count": 17,
     "metadata": {},
     "output_type": "execute_result"
    }
   ],
   "source": [
    "cond = df_reservation_mod[\"lead_time\"] > 0\n",
    "df_filtrado = df_reservation_mod[cond]\n",
    "df_filtrado"
   ]
  },
  {
   "cell_type": "markdown",
   "id": "56a9be99-c035-4116-8ac2-60f8271ffc1b",
   "metadata": {},
   "source": [
    "- hotel \n",
    "- lead_time (Nos podría dar pistas de si a mayor tiempo mas cancelaciones)\n",
    "- deposit_type \n",
    "- days_in_waiting_list\n",
    "- reservation_status"
   ]
  }
 ],
 "metadata": {
  "kernelspec": {
   "display_name": "venv",
   "language": "python",
   "name": "python3"
  },
  "language_info": {
   "codemirror_mode": {
    "name": "ipython",
    "version": 3
   },
   "file_extension": ".py",
   "mimetype": "text/x-python",
   "name": "python",
   "nbconvert_exporter": "python",
   "pygments_lexer": "ipython3",
   "version": "3.11.9"
  }
 },
 "nbformat": 4,
 "nbformat_minor": 5
}
